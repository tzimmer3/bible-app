{
 "cells": [
  {
   "cell_type": "code",
   "execution_count": 3,
   "metadata": {},
   "outputs": [],
   "source": [
    "import gradio as gr\n",
    "import tiktoken\n",
    "from joblib import load\n",
    "import numpy as np"
   ]
  },
  {
   "cell_type": "code",
   "execution_count": 2,
   "metadata": {},
   "outputs": [
    {
     "name": "stderr",
     "output_type": "stream",
     "text": [
      "c:\\Users\\t_zim\\miniconda3\\envs\\bible_app\\lib\\site-packages\\gradio\\blocks.py:959: UserWarning: api_name predict already exists, using predict_1\n",
      "  warnings.warn(\n"
     ]
    },
    {
     "name": "stdout",
     "output_type": "stream",
     "text": [
      "Running on local URL:  http://127.0.0.1:7860\n",
      "\n",
      "To create a public link, set `share=True` in `launch()`.\n"
     ]
    },
    {
     "data": {
      "text/html": [
       "<div><iframe src=\"http://127.0.0.1:7860/\" width=\"100%\" height=\"500\" allow=\"autoplay; camera; microphone; clipboard-read; clipboard-write;\" frameborder=\"0\" allowfullscreen></iframe></div>"
      ],
      "text/plain": [
       "<IPython.core.display.HTML object>"
      ]
     },
     "metadata": {},
     "output_type": "display_data"
    },
    {
     "data": {
      "text/plain": []
     },
     "execution_count": 2,
     "metadata": {},
     "output_type": "execute_result"
    }
   ],
   "source": [
    "def do_something(name, age):\n",
    "    return f'Hello, {name}', age\n",
    "\n",
    "def do_anotherthing(country):\n",
    "    return f'You are from {country}'\n",
    "    \n",
    "# Tab 1\n",
    "app1 =  gr.Interface(fn = do_something,\n",
    "                      title = 'Interface 1',\n",
    "                      inputs = ['text','number'], \n",
    "                      outputs = ['text','number'])\n",
    "\n",
    "# Tab 2\n",
    "app2 =  gr.Interface(fn = do_anotherthing,\n",
    "                      title = 'Interface 2',\n",
    "                      inputs = 'text', \n",
    "                      outputs = 'text')\n",
    "\n",
    "# grouping Tab 1 and 2\n",
    "tabbed = gr.TabbedInterface([app1,app2],\n",
    "                             ['Greeting','Country'])\n",
    "tabbed.launch()"
   ]
  },
  {
   "cell_type": "code",
   "execution_count": 4,
   "metadata": {},
   "outputs": [],
   "source": [
    "# ================== #\n",
    "# Tokenize Text\n",
    "# ================== #\n",
    "\n",
    "# TODO: change tiktoken out to real tokenizer... or use tiktoken\n",
    "\n",
    "def get_tokens(text_2_encode: str, tokenizer=None):\n",
    "    \"\"\"\n",
    "    Tokenize text in a string.\n",
    "\n",
    "    Initialize a tokenizer if tokenizer == None.\n",
    "    \"\"\"\n",
    "\n",
    "    if tokenizer is None:\n",
    "        tokenizer = tiktoken.encoding_for_model(\"text-davinci-003\")\n",
    "    return tokenizer.encode(text=text_2_encode)\n",
    "\n",
    "\n",
    "def get_num_tokens(text_2_encode: str, **kwargs):\n",
    "    \"\"\"\n",
    "    Count the number of tokens in a string.\n",
    "    \"\"\"\n",
    "    return len(get_tokens(text_2_encode=text_2_encode, **kwargs))\n",
    "\n",
    "\n",
    "# ================== #\n",
    "#  Get Embeddings\n",
    "# ================== #\n",
    "\n",
    "def get_embeddings(text=None, model=None):\n",
    "    \"\"\"\n",
    "    Generate embeddings on a string of text.\n",
    "    \"\"\"\n",
    "    if model==None:\n",
    "        model = load('./model/SentBERTmodel.pkl')\n",
    "\n",
    "    return model.encode(text)\n",
    "\n",
    "\n",
    "# ================== #\n",
    "#  Calculate Vector Similarity\n",
    "# ================== #\n",
    "\n",
    "def vector_similarity(x: \"list[float]\", y: \"list[float]\") -> float:\n",
    "    \"\"\"\n",
    "    Returns the similarity between two vectors.\n",
    "\n",
    "    Because embeddings are normalized to length 1, the cosine similarity is the same as the dot product.\n",
    "    \"\"\"\n",
    "    return np.dot(np.array(x), np.array(y))\n",
    "\n",
    "\n",
    "# ================== #\n",
    "#  Order Chunks by Similarity\n",
    "# ================== #\n",
    "\n",
    "def measure_embedding_similarity(\n",
    "    query: str,\n",
    "    embeddings\n",
    "):\n",
    "    \"\"\"\n",
    "    Find the query embedding for the supplied query, and compare it against all of the pre-calculated document embeddings\n",
    "    to find the most relevant sections.\n",
    "\n",
    "    Return the list of document sections, sorted by relevance in descending order.\n",
    "    \"\"\"\n",
    "    query_embedding = get_embeddings(query)\n",
    "\n",
    "    return [vector_similarity(query_embedding, embedding) for embedding in embeddings]\n",
    "\n",
    "\n",
    "# ================== #\n",
    "#  Get Similar Texts\n",
    "# ================== #\n",
    "\n",
    "def get_similar_texts(df, k):\n",
    "    \"\"\"\n",
    "    Slice a dataframe on the top k results.  Sort the sliced dataframe descending on similarity score.\n",
    "\n",
    "    If there are repeated results in top 5, keep them all.\n",
    "    \"\"\"\n",
    "    response = df.nlargest(k, columns=['similarity score'],keep='all')\n",
    "    response = response.sort_values(by='similarity score', ascending=False)\n",
    "    return response"
   ]
  },
  {
   "cell_type": "code",
   "execution_count": 5,
   "metadata": {},
   "outputs": [],
   "source": [
    "# ================== #\n",
    "#  Run (score.py)\n",
    "# ================== #\n",
    "\n",
    "def run(question: str, k: int, embeddings, df) -> dict[str,str]:\n",
    "\n",
    "    # Retrieve Top K Most Similar Results\n",
    "    df['similarity score'] = measure_embedding_similarity(question, embeddings)\n",
    "\n",
    "    # Count number of tokens in each article\n",
    "    df['token count'] = df['text'].apply(get_num_tokens)\n",
    "    \n",
    "    # Return Chunks With Highest Similarity (Text)\n",
    "    response = get_similar_texts(df, k)\n",
    "\n",
    "    # Remove embeddings column\n",
    "    keep_columns = ['book', \"chapter\", 'text', 'token count', 'similarity score']\n",
    "    response = response[keep_columns]\n",
    "    \n",
    "    return response"
   ]
  },
  {
   "cell_type": "code",
   "execution_count": 6,
   "metadata": {},
   "outputs": [
    {
     "name": "stderr",
     "output_type": "stream",
     "text": [
      "c:\\Users\\t_zim\\miniconda3\\envs\\bible_app\\lib\\site-packages\\gradio\\utils.py:816: UserWarning: Expected 4 arguments for function <function run at 0x000002A4B3F7DCA0>, received 1.\n",
      "  warnings.warn(\n",
      "c:\\Users\\t_zim\\miniconda3\\envs\\bible_app\\lib\\site-packages\\gradio\\utils.py:820: UserWarning: Expected at least 4 arguments for function <function run at 0x000002A4B3F7DCA0>, received 1.\n",
      "  warnings.warn(\n"
     ]
    },
    {
     "name": "stdout",
     "output_type": "stream",
     "text": [
      "Running on local URL:  http://127.0.0.1:7861\n",
      "Running on public URL: https://64918e97c22f01a8d1.gradio.live\n",
      "\n",
      "This share link expires in 72 hours. For free permanent hosting and GPU upgrades, run `gradio deploy` from Terminal to deploy to Spaces (https://huggingface.co/spaces)\n"
     ]
    },
    {
     "data": {
      "text/html": [
       "<div><iframe src=\"https://64918e97c22f01a8d1.gradio.live\" width=\"100%\" height=\"500\" allow=\"autoplay; camera; microphone; clipboard-read; clipboard-write;\" frameborder=\"0\" allowfullscreen></iframe></div>"
      ],
      "text/plain": [
       "<IPython.core.display.HTML object>"
      ]
     },
     "metadata": {},
     "output_type": "display_data"
    },
    {
     "name": "stderr",
     "output_type": "stream",
     "text": [
      "c:\\Users\\t_zim\\miniconda3\\envs\\bible_app\\lib\\site-packages\\gradio\\helpers.py:796: UserWarning: Unexpected argument. Filling with None.\n",
      "  warnings.warn(\"Unexpected argument. Filling with None.\")\n",
      "Traceback (most recent call last):\n",
      "  File \"c:\\Users\\t_zim\\miniconda3\\envs\\bible_app\\lib\\site-packages\\gradio\\queueing.py\", line 427, in call_prediction\n",
      "    output = await route_utils.call_process_api(\n",
      "  File \"c:\\Users\\t_zim\\miniconda3\\envs\\bible_app\\lib\\site-packages\\gradio\\route_utils.py\", line 232, in call_process_api\n",
      "    output = await app.get_blocks().process_api(\n",
      "  File \"c:\\Users\\t_zim\\miniconda3\\envs\\bible_app\\lib\\site-packages\\gradio\\blocks.py\", line 1497, in process_api\n",
      "    result = await self.call_function(\n",
      "  File \"c:\\Users\\t_zim\\miniconda3\\envs\\bible_app\\lib\\site-packages\\gradio\\blocks.py\", line 1119, in call_function\n",
      "    prediction = await anyio.to_thread.run_sync(\n",
      "  File \"c:\\Users\\t_zim\\miniconda3\\envs\\bible_app\\lib\\site-packages\\anyio\\to_thread.py\", line 33, in run_sync\n",
      "    return await get_asynclib().run_sync_in_worker_thread(\n",
      "  File \"c:\\Users\\t_zim\\miniconda3\\envs\\bible_app\\lib\\site-packages\\anyio\\_backends\\_asyncio.py\", line 877, in run_sync_in_worker_thread\n",
      "    return await future\n",
      "  File \"c:\\Users\\t_zim\\miniconda3\\envs\\bible_app\\lib\\site-packages\\anyio\\_backends\\_asyncio.py\", line 807, in run\n",
      "    result = context.run(func, *args)\n",
      "  File \"c:\\Users\\t_zim\\miniconda3\\envs\\bible_app\\lib\\site-packages\\gradio\\utils.py\", line 665, in wrapper\n",
      "    response = f(*args, **kwargs)\n",
      "  File \"C:\\Users\\t_zim\\AppData\\Local\\Temp\\ipykernel_1144\\2503175462.py\", line 8, in run\n",
      "    df['similarity score'] = measure_embedding_similarity(question, embeddings)\n",
      "  File \"C:\\Users\\t_zim\\AppData\\Local\\Temp\\ipykernel_1144\\2716504919.py\", line 67, in measure_embedding_similarity\n",
      "    query_embedding = get_embeddings(query)\n",
      "  File \"C:\\Users\\t_zim\\AppData\\Local\\Temp\\ipykernel_1144\\2716504919.py\", line 35, in get_embeddings\n",
      "    model = load('./model/SentBERTmodel.pkl')\n",
      "  File \"c:\\Users\\t_zim\\miniconda3\\envs\\bible_app\\lib\\site-packages\\joblib\\numpy_pickle.py\", line 579, in load\n",
      "    with open(filename, 'rb') as f:\n",
      "FileNotFoundError: [Errno 2] No such file or directory: './model/SentBERTmodel.pkl'\n",
      "Traceback (most recent call last):\n",
      "  File \"c:\\Users\\t_zim\\miniconda3\\envs\\bible_app\\lib\\site-packages\\gradio\\queueing.py\", line 427, in call_prediction\n",
      "    output = await route_utils.call_process_api(\n",
      "  File \"c:\\Users\\t_zim\\miniconda3\\envs\\bible_app\\lib\\site-packages\\gradio\\route_utils.py\", line 232, in call_process_api\n",
      "    output = await app.get_blocks().process_api(\n",
      "  File \"c:\\Users\\t_zim\\miniconda3\\envs\\bible_app\\lib\\site-packages\\gradio\\blocks.py\", line 1497, in process_api\n",
      "    result = await self.call_function(\n",
      "  File \"c:\\Users\\t_zim\\miniconda3\\envs\\bible_app\\lib\\site-packages\\gradio\\blocks.py\", line 1119, in call_function\n",
      "    prediction = await anyio.to_thread.run_sync(\n",
      "  File \"c:\\Users\\t_zim\\miniconda3\\envs\\bible_app\\lib\\site-packages\\anyio\\to_thread.py\", line 33, in run_sync\n",
      "    return await get_asynclib().run_sync_in_worker_thread(\n",
      "  File \"c:\\Users\\t_zim\\miniconda3\\envs\\bible_app\\lib\\site-packages\\anyio\\_backends\\_asyncio.py\", line 877, in run_sync_in_worker_thread\n",
      "    return await future\n",
      "  File \"c:\\Users\\t_zim\\miniconda3\\envs\\bible_app\\lib\\site-packages\\anyio\\_backends\\_asyncio.py\", line 807, in run\n",
      "    result = context.run(func, *args)\n",
      "  File \"c:\\Users\\t_zim\\miniconda3\\envs\\bible_app\\lib\\site-packages\\gradio\\utils.py\", line 665, in wrapper\n",
      "    response = f(*args, **kwargs)\n",
      "  File \"C:\\Users\\t_zim\\AppData\\Local\\Temp\\ipykernel_1144\\2503175462.py\", line 8, in run\n",
      "    df['similarity score'] = measure_embedding_similarity(question, embeddings)\n",
      "  File \"C:\\Users\\t_zim\\AppData\\Local\\Temp\\ipykernel_1144\\2716504919.py\", line 67, in measure_embedding_similarity\n",
      "    query_embedding = get_embeddings(query)\n",
      "  File \"C:\\Users\\t_zim\\AppData\\Local\\Temp\\ipykernel_1144\\2716504919.py\", line 35, in get_embeddings\n",
      "    model = load('./model/SentBERTmodel.pkl')\n",
      "  File \"c:\\Users\\t_zim\\miniconda3\\envs\\bible_app\\lib\\site-packages\\joblib\\numpy_pickle.py\", line 579, in load\n",
      "    with open(filename, 'rb') as f:\n",
      "FileNotFoundError: [Errno 2] No such file or directory: './model/SentBERTmodel.pkl'\n",
      "\n",
      "The above exception was the direct cause of the following exception:\n",
      "\n",
      "Traceback (most recent call last):\n",
      "  File \"c:\\Users\\t_zim\\miniconda3\\envs\\bible_app\\lib\\site-packages\\gradio\\queueing.py\", line 472, in process_events\n",
      "    response = await self.call_prediction(awake_events, batch)\n",
      "  File \"c:\\Users\\t_zim\\miniconda3\\envs\\bible_app\\lib\\site-packages\\gradio\\queueing.py\", line 436, in call_prediction\n",
      "    raise Exception(str(error) if show_error else None) from error\n",
      "Exception: None\n"
     ]
    }
   ],
   "source": [
    "# Creating a Gradio interface for the chatbot\n",
    "with gr.Blocks() as demo:\n",
    "    title = gr.HTML(\"<h1>Bible Reference Assistant</h1>\")\n",
    "    input = gr.Textbox(label=\"What would you like to know?\")  # Textbox for user input\n",
    "    output = gr.Textbox(label=\"Here ya go, Champ:\")  # Textbox for chatbot response\n",
    "    btn = gr.Button(\"Gimme the answer\")  # Button to trigger the agent call\n",
    "    btn.click(fn=run, inputs=input, outputs=output)\n",
    "\n",
    "# Launching the Gradio interface\n",
    "demo.launch(share=True, debug=True)"
   ]
  },
  {
   "cell_type": "code",
   "execution_count": null,
   "metadata": {},
   "outputs": [],
   "source": []
  }
 ],
 "metadata": {
  "kernelspec": {
   "display_name": "nlp_testing",
   "language": "python",
   "name": "python3"
  },
  "language_info": {
   "codemirror_mode": {
    "name": "ipython",
    "version": 3
   },
   "file_extension": ".py",
   "mimetype": "text/x-python",
   "name": "python",
   "nbconvert_exporter": "python",
   "pygments_lexer": "ipython3",
   "version": "3.9.5"
  }
 },
 "nbformat": 4,
 "nbformat_minor": 2
}
