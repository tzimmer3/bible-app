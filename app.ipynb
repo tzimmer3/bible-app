{
 "cells": [
  {
   "cell_type": "code",
   "execution_count": 1,
   "metadata": {},
   "outputs": [],
   "source": [
    "import gradio as gr"
   ]
  },
  {
   "cell_type": "code",
   "execution_count": 8,
   "metadata": {},
   "outputs": [
    {
     "name": "stderr",
     "output_type": "stream",
     "text": [
      "c:\\ProgramData\\Miniconda3\\envs\\nlp_testing\\lib\\site-packages\\gradio\\blocks.py:959: UserWarning: api_name predict already exists, using predict_1\n",
      "  warnings.warn(\n"
     ]
    },
    {
     "name": "stdout",
     "output_type": "stream",
     "text": [
      "Running on local URL:  http://127.0.0.1:7864\n",
      "\n",
      "To create a public link, set `share=True` in `launch()`.\n"
     ]
    },
    {
     "data": {
      "text/html": [
       "<div><iframe src=\"http://127.0.0.1:7864/\" width=\"100%\" height=\"500\" allow=\"autoplay; camera; microphone; clipboard-read; clipboard-write;\" frameborder=\"0\" allowfullscreen></iframe></div>"
      ],
      "text/plain": [
       "<IPython.core.display.HTML object>"
      ]
     },
     "metadata": {},
     "output_type": "display_data"
    },
    {
     "data": {
      "text/plain": []
     },
     "execution_count": 8,
     "metadata": {},
     "output_type": "execute_result"
    }
   ],
   "source": [
    "def do_something(name, age):\n",
    "    return f'Hello, {name}', age\n",
    "\n",
    "def do_anotherthing(country):\n",
    "    return f'You are from {country}'\n",
    "    \n",
    "# Tab 1\n",
    "app1 =  gr.Interface(fn = do_something,\n",
    "                      title = 'Interface 1',\n",
    "                      inputs = ['text','number'], \n",
    "                      outputs = ['text','number'])\n",
    "\n",
    "# Tab 2\n",
    "app2 =  gr.Interface(fn = do_anotherthing,\n",
    "                      title = 'Interface 2',\n",
    "                      inputs = 'text', \n",
    "                      outputs = 'text')\n",
    "\n",
    "# grouping Tab 1 and 2\n",
    "tabbed = gr.TabbedInterface([app1,app2],\n",
    "                             ['Greeting','Country'])\n",
    "tabbed.launch()"
   ]
  },
  {
   "cell_type": "code",
   "execution_count": null,
   "metadata": {},
   "outputs": [],
   "source": []
  }
 ],
 "metadata": {
  "kernelspec": {
   "display_name": "nlp_testing",
   "language": "python",
   "name": "python3"
  },
  "language_info": {
   "codemirror_mode": {
    "name": "ipython",
    "version": 3
   },
   "file_extension": ".py",
   "mimetype": "text/x-python",
   "name": "python",
   "nbconvert_exporter": "python",
   "pygments_lexer": "ipython3",
   "version": "3.9.5"
  }
 },
 "nbformat": 4,
 "nbformat_minor": 2
}
