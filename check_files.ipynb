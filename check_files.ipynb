{
 "cells": [
  {
   "cell_type": "code",
   "execution_count": 4,
   "metadata": {},
   "outputs": [],
   "source": [
    "import os\n",
    "\n",
    "def find_file(filename, directory):\n",
    "    \"\"\"\n",
    "    Finds a file in a given directory.\n",
    "\n",
    "    Args:\n",
    "        filename (str): The name of the file to search for.\n",
    "        directory (str): The directory to search in.\n",
    "\n",
    "    Returns:\n",
    "        str: The full path to the file if found, otherwise None.\n",
    "    \"\"\"\n",
    "\n",
    "    for root, dirs, files in os.walk(directory):\n",
    "        if filename in files:\n",
    "            return os.path.join(root, filename)\n",
    "\n",
    "    return None"
   ]
  },
  {
   "cell_type": "code",
   "execution_count": 6,
   "metadata": {},
   "outputs": [
    {
     "name": "stdout",
     "output_type": "stream",
     "text": [
      "C:\\Users\\t_zim\\code\\bible-app\\app\\src\\KJV_chapter_search.json\n"
     ]
    }
   ],
   "source": [
    "file = find_file(\"KJV_chapter_search.json\", \"C:\\\\Users\\\\t_zim\\\\code\\\\bible-app\\\\app\\\\src\")\n",
    "print(file)"
   ]
  },
  {
   "cell_type": "code",
   "execution_count": null,
   "metadata": {},
   "outputs": [],
   "source": []
  }
 ],
 "metadata": {
  "kernelspec": {
   "display_name": "bible_app_env2",
   "language": "python",
   "name": "python3"
  },
  "language_info": {
   "codemirror_mode": {
    "name": "ipython",
    "version": 3
   },
   "file_extension": ".py",
   "mimetype": "text/x-python",
   "name": "python",
   "nbconvert_exporter": "python",
   "pygments_lexer": "ipython3",
   "version": "3.9.5"
  }
 },
 "nbformat": 4,
 "nbformat_minor": 2
}
