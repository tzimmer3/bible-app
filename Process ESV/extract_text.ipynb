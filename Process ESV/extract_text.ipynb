{
 "cells": [
  {
   "cell_type": "markdown",
   "metadata": {},
   "source": [
    "## Extract Text and Structure ESV"
   ]
  },
  {
   "cell_type": "code",
   "execution_count": 1,
   "metadata": {},
   "outputs": [],
   "source": [
    "# Import Packages\n",
    "import pandas as pd\n",
    "\n",
    "import os\n",
    "import string\n",
    "import re\n",
    "import pdfplumber\n",
    "\n",
    "# import pymupdf"
   ]
  },
  {
   "cell_type": "code",
   "execution_count": 2,
   "metadata": {},
   "outputs": [],
   "source": [
    "# INCOMING DOCUMENTS\n",
    "filepath = \"C:\\\\Users\\\\t_zim\\\\Desktop\\\\Projects\\\\Bible_Project\\\\\"\n",
    "extension = \".pdf\"\n",
    "\n",
    "# EXPORT CLEANED DATASET\n",
    "filename_to_export_data = 'ESV_extracted_text.csv'\n",
    "filepath_to_export_data = \"C:\\\\Users\\\\t_zim\\\\code\\\\bible-app\\\\Process ESV\\\\Out\\\\\"\n"
   ]
  },
  {
   "cell_type": "code",
   "execution_count": 3,
   "metadata": {},
   "outputs": [],
   "source": [
    "# LIST OF FILES TO EXTRACT TEXT FROM\n",
    "filenames = ([os.path.join(filepath, filename) for filename in os.listdir(filepath) if filename.endswith(extension)])"
   ]
  },
  {
   "cell_type": "code",
   "execution_count": 7,
   "metadata": {},
   "outputs": [],
   "source": [
    "# FUNCTION: Extract text from pdf file\n",
    "def extract_text_and_metadata(filenames):\n",
    "\n",
    "    docName = []\n",
    "    pageContent = []\n",
    "    pageNumber = []\n",
    "\n",
    "#Whole document level of detail\n",
    "    for i in range(len(filenames)):\n",
    "        # Iterate through all files in the list\n",
    "        filename = filenames[i]\n",
    "        # Clean the filename\n",
    "        trimmed_filename = filename.replace(filepath, \"\")\n",
    "        \n",
    "        # Clear text from document\n",
    "        document = []\n",
    "        # Open the file name and save as instance called pdf\n",
    "        with pdfplumber.open(filename) as pdf:\n",
    "\n",
    "            pages_list = pdf.pages\n",
    "            pages_list = pages_list[36:80]\n",
    "            # Iterate page by page through the .pdf file\n",
    "            for pdf_page in pages_list:\n",
    "                # Extract one page of text\n",
    "                page_text = pdf_page.extract_text()\n",
    "                # Append document name.  Once for EACH page\n",
    "                docName.append(trimmed_filename)\n",
    "                # Append document text by page\n",
    "                pageContent.append(page_text)\n",
    "                \n",
    "                pageNumber.append(pdf_page.page_number)\n",
    "        # Close the current document\n",
    "        pdf.close()\n",
    "        \n",
    "        \n",
    "    return [docName, pageContent, pageNumber]"
   ]
  },
  {
   "cell_type": "code",
   "execution_count": 9,
   "metadata": {},
   "outputs": [],
   "source": [
    "# Extract Text and Metadata\n",
    "docName, pageContent, pageNumber = extract_text_and_metadata(filenames)"
   ]
  },
  {
   "cell_type": "code",
   "execution_count": 8,
   "metadata": {},
   "outputs": [
    {
     "ename": "NameError",
     "evalue": "name 'docname' is not defined",
     "output_type": "error",
     "traceback": [
      "\u001b[1;31m---------------------------------------------------------------------------\u001b[0m",
      "\u001b[1;31mNameError\u001b[0m                                 Traceback (most recent call last)",
      "Cell \u001b[1;32mIn[8], line 1\u001b[0m\n\u001b[1;32m----> 1\u001b[0m \u001b[38;5;28mprint\u001b[39m(\u001b[38;5;28mlen\u001b[39m(\u001b[43mdocname\u001b[49m))\n\u001b[0;32m      2\u001b[0m \u001b[38;5;28mprint\u001b[39m(\u001b[38;5;28mlen\u001b[39m(pageContent))\n\u001b[0;32m      3\u001b[0m \u001b[38;5;28mprint\u001b[39m(\u001b[38;5;28mlen\u001b[39m(pageNumber))\n",
      "\u001b[1;31mNameError\u001b[0m: name 'docname' is not defined"
     ]
    }
   ],
   "source": [
    "print(len(docname))\n",
    "print(len(pageContent))\n",
    "print(len(pageNumber))"
   ]
  },
  {
   "cell_type": "code",
   "execution_count": 10,
   "metadata": {},
   "outputs": [],
   "source": [
    "# FUNCTION: Collate lists into DataFrame columns\n",
    "def dataframe_constructor(docName, pageContent, pageNumber):\n",
    "    df = pd.DataFrame()\n",
    "    df['docName'] = docName\n",
    "    df['pageContent'] = pageContent\n",
    "    df['pageNumber'] = pageNumber\n",
    "    return df\n",
    "\n",
    "# FUNCTION: Iterate through numPages to provide single list of all page numbers\n",
    "def flatten(pageNum):\n",
    "    return [item for sublist in pageNum for item in sublist]"
   ]
  },
  {
   "cell_type": "code",
   "execution_count": 11,
   "metadata": {},
   "outputs": [],
   "source": [
    "# CREATE DATAFRAME\n",
    "df = dataframe_constructor(docName, pageContent, pageNumber)"
   ]
  },
  {
   "cell_type": "code",
   "execution_count": 12,
   "metadata": {},
   "outputs": [],
   "source": [
    "# EXPORT DATAFRAME\n",
    "\n",
    "df.to_csv(filepath_to_export_data+filename_to_export_data, sep=',', index = False)"
   ]
  },
  {
   "cell_type": "code",
   "execution_count": null,
   "metadata": {},
   "outputs": [],
   "source": []
  },
  {
   "cell_type": "code",
   "execution_count": null,
   "metadata": {},
   "outputs": [],
   "source": []
  },
  {
   "cell_type": "code",
   "execution_count": null,
   "metadata": {},
   "outputs": [],
   "source": []
  },
  {
   "cell_type": "code",
   "execution_count": null,
   "metadata": {},
   "outputs": [],
   "source": []
  }
 ],
 "metadata": {
  "kernelspec": {
   "display_name": "bible_app",
   "language": "python",
   "name": "python3"
  },
  "language_info": {
   "codemirror_mode": {
    "name": "ipython",
    "version": 3
   },
   "file_extension": ".py",
   "mimetype": "text/x-python",
   "name": "python",
   "nbconvert_exporter": "python",
   "pygments_lexer": "ipython3",
   "version": "3.9.5"
  }
 },
 "nbformat": 4,
 "nbformat_minor": 2
}
