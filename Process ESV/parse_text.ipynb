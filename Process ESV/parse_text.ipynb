{
 "cells": [
  {
   "cell_type": "code",
   "execution_count": 3,
   "metadata": {},
   "outputs": [],
   "source": [
    "import pandas as pd"
   ]
  },
  {
   "cell_type": "code",
   "execution_count": 4,
   "metadata": {},
   "outputs": [],
   "source": [
    "# Functions\n"
   ]
  },
  {
   "cell_type": "code",
   "execution_count": null,
   "metadata": {},
   "outputs": [],
   "source": [
    "# Variables\n",
    "\n",
    "# Import data\n",
    "import_filename = 'ESV_extracted_text.csv'\n",
    "import_filepath = \"C:\\\\Users\\\\t_zim\\\\code\\\\bible-app\\\\Process ESV\\\\Out\\\\\"\n",
    "\n",
    "# Export data\n",
    "export_filename = 'ESV_Bible_Extracted_and_Parsed.csv'\n",
    "export_filepath = \"C:\\\\Users\\\\t_zim\\\\code\\\\bible-app\\\\Process ESV\\\\Out\\\\\""
   ]
  },
  {
   "cell_type": "code",
   "execution_count": 6,
   "metadata": {},
   "outputs": [
    {
     "data": {
      "text/html": [
       "<div>\n",
       "<style scoped>\n",
       "    .dataframe tbody tr th:only-of-type {\n",
       "        vertical-align: middle;\n",
       "    }\n",
       "\n",
       "    .dataframe tbody tr th {\n",
       "        vertical-align: top;\n",
       "    }\n",
       "\n",
       "    .dataframe thead th {\n",
       "        text-align: right;\n",
       "    }\n",
       "</style>\n",
       "<table border=\"1\" class=\"dataframe\">\n",
       "  <thead>\n",
       "    <tr style=\"text-align: right;\">\n",
       "      <th></th>\n",
       "      <th>docName</th>\n",
       "      <th>pageContent</th>\n",
       "      <th>pageNumber</th>\n",
       "    </tr>\n",
       "  </thead>\n",
       "  <tbody>\n",
       "    <tr>\n",
       "      <th>0</th>\n",
       "      <td>ESV Bible.pdf</td>\n",
       "      <td>GENESIS\\nChapter 1\\nChapter 2\\nChapter 3\\nChap...</td>\n",
       "      <td>37</td>\n",
       "    </tr>\n",
       "    <tr>\n",
       "      <th>1</th>\n",
       "      <td>ESV Bible.pdf</td>\n",
       "      <td>Chapter 22\\nChapter 23\\nChapter 24\\nChapter 25...</td>\n",
       "      <td>38</td>\n",
       "    </tr>\n",
       "    <tr>\n",
       "      <th>2</th>\n",
       "      <td>ESV Bible.pdf</td>\n",
       "      <td>Chapter 46\\nChapter 47\\nChapter 48\\nChapter 49...</td>\n",
       "      <td>39</td>\n",
       "    </tr>\n",
       "    <tr>\n",
       "      <th>3</th>\n",
       "      <td>ESV Bible.pdf</td>\n",
       "      <td>The Creation of the World\\n1:1 In the beginnin...</td>\n",
       "      <td>40</td>\n",
       "    </tr>\n",
       "    <tr>\n",
       "      <th>4</th>\n",
       "      <td>ESV Bible.pdf</td>\n",
       "      <td>there was morning, the second day.\\n9And God s...</td>\n",
       "      <td>41</td>\n",
       "    </tr>\n",
       "  </tbody>\n",
       "</table>\n",
       "</div>"
      ],
      "text/plain": [
       "         docName                                        pageContent  \\\n",
       "0  ESV Bible.pdf  GENESIS\\nChapter 1\\nChapter 2\\nChapter 3\\nChap...   \n",
       "1  ESV Bible.pdf  Chapter 22\\nChapter 23\\nChapter 24\\nChapter 25...   \n",
       "2  ESV Bible.pdf  Chapter 46\\nChapter 47\\nChapter 48\\nChapter 49...   \n",
       "3  ESV Bible.pdf  The Creation of the World\\n1:1 In the beginnin...   \n",
       "4  ESV Bible.pdf  there was morning, the second day.\\n9And God s...   \n",
       "\n",
       "   pageNumber  \n",
       "0          37  \n",
       "1          38  \n",
       "2          39  \n",
       "3          40  \n",
       "4          41  "
      ]
     },
     "execution_count": 6,
     "metadata": {},
     "output_type": "execute_result"
    }
   ],
   "source": [
    "# Import Data\n",
    "df = pd.read_csv(str(import_filepath)+str(import_filename))\n",
    "df.head()"
   ]
  },
  {
   "cell_type": "code",
   "execution_count": null,
   "metadata": {},
   "outputs": [],
   "source": [
    "# Check to see if you can just use similarity to map KJV to ESV"
   ]
  },
  {
   "cell_type": "code",
   "execution_count": null,
   "metadata": {},
   "outputs": [],
   "source": [
    "# Run Functions\n",
    "\n",
    "# Replace  â€œ with \"\n",
    "\n",
    "\n",
    "# Scan for index location of START of each book of the bible.  Can get list from KJV\n",
    "\n",
    "\n",
    "# Remove ToC pages\n",
    "\n",
    "\n",
    "# Separate out the headings... They seem to be at the top of each page (beginning of string)\n",
    "\n",
    "\n",
    "# Parse the Chapter/Verses.  Verse one of a chapter looks like 7:1 but the rest look like 2 or 3 or 4\n",
    "\n",
    "\n"
   ]
  },
  {
   "cell_type": "code",
   "execution_count": null,
   "metadata": {},
   "outputs": [],
   "source": []
  },
  {
   "cell_type": "code",
   "execution_count": null,
   "metadata": {},
   "outputs": [],
   "source": [
    "# Output Data\n"
   ]
  }
 ],
 "metadata": {
  "kernelspec": {
   "display_name": "bible_app",
   "language": "python",
   "name": "python3"
  },
  "language_info": {
   "codemirror_mode": {
    "name": "ipython",
    "version": 3
   },
   "file_extension": ".py",
   "mimetype": "text/x-python",
   "name": "python",
   "nbconvert_exporter": "python",
   "pygments_lexer": "ipython3",
   "version": "3.9.5"
  }
 },
 "nbformat": 4,
 "nbformat_minor": 2
}
