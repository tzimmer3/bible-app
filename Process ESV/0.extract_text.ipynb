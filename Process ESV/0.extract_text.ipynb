{
 "cells": [
  {
   "cell_type": "markdown",
   "metadata": {},
   "source": [
    "## Extract Text and Structure ESV"
   ]
  },
  {
   "cell_type": "code",
   "execution_count": 10,
   "metadata": {},
   "outputs": [],
   "source": [
    "# Import Packages\n",
    "import pandas as pd\n",
    "\n",
    "import os\n",
    "import pdfplumber\n",
    "\n",
    "# import pymupdf"
   ]
  },
  {
   "cell_type": "code",
   "execution_count": 11,
   "metadata": {},
   "outputs": [],
   "source": [
    "# Variables\n",
    "\n",
    "# ESV Gospel of John\n",
    "index_start = 4995\n",
    "index_stop = 5160\n",
    "\n",
    "# # ESV Genesis\n",
    "# index_start = 36\n",
    "# index_stop = 80"
   ]
  },
  {
   "cell_type": "code",
   "execution_count": 12,
   "metadata": {},
   "outputs": [],
   "source": [
    "# INCOMING DOCUMENTS\n",
    "filepath = \"C:\\\\Users\\\\hlmq\\\\code\\\\bible-app\\\\Process ESV\\\\In\\\\\"\n",
    "extension = \".pdf\"\n",
    "\n",
    "# EXPORT CLEANED DATASET\n",
    "filename_to_export_data = 'ESV_extracted_text.csv'\n",
    "filepath_to_export_data = \"C:\\\\Users\\\\hlmq\\\\code\\\\bible-app\\\\Process ESV\\\\Out\\\\\"\n"
   ]
  },
  {
   "cell_type": "code",
   "execution_count": 13,
   "metadata": {},
   "outputs": [],
   "source": [
    "# LIST OF FILES TO EXTRACT TEXT FROM\n",
    "filenames = ([os.path.join(filepath, filename) for filename in os.listdir(filepath) if filename.endswith(extension)])"
   ]
  },
  {
   "cell_type": "code",
   "execution_count": 14,
   "metadata": {},
   "outputs": [],
   "source": [
    "# FUNCTION: Extract text from pdf file\n",
    "def extract_text_and_metadata(filenames):\n",
    "\n",
    "    docName = []\n",
    "    pageContent = []\n",
    "    pageNumber = []\n",
    "\n",
    "#Whole document level of detail\n",
    "    for i in range(len(filenames)):\n",
    "        # Iterate through all files in the list\n",
    "        filename = filenames[i]\n",
    "        # Clean the filename\n",
    "        trimmed_filename = filename.replace(filepath, \"\")\n",
    "        \n",
    "        # Clear text from document\n",
    "        document = []\n",
    "        # Open the file name and save as instance called pdf\n",
    "        with pdfplumber.open(filename) as pdf:\n",
    "\n",
    "            pages_list = pdf.pages\n",
    "            pages_list = pages_list[index_start:index_stop]\n",
    "            # Iterate page by page through the .pdf file\n",
    "            for pdf_page in pages_list:\n",
    "                # Extract one page of text\n",
    "                page_text = pdf_page.extract_text()\n",
    "                # Append document name.  Once for EACH page\n",
    "                docName.append(trimmed_filename)\n",
    "                # Append document text by page\n",
    "                pageContent.append(page_text)\n",
    "                \n",
    "                pageNumber.append(pdf_page.page_number)\n",
    "        # Close the current document\n",
    "        pdf.close()\n",
    "        \n",
    "        \n",
    "    return [docName, pageContent, pageNumber]"
   ]
  },
  {
   "cell_type": "code",
   "execution_count": 15,
   "metadata": {},
   "outputs": [],
   "source": [
    "# Extract Text and Metadata\n",
    "docName, pageContent, pageNumber = extract_text_and_metadata(filenames)"
   ]
  },
  {
   "cell_type": "code",
   "execution_count": 16,
   "metadata": {},
   "outputs": [],
   "source": [
    "# FUNCTION: Collate lists into DataFrame columns\n",
    "def dataframe_constructor(docName, pageContent, pageNumber):\n",
    "    df = pd.DataFrame()\n",
    "    df['docName'] = docName\n",
    "    df['pageContent'] = pageContent\n",
    "    df['pageNumber'] = pageNumber\n",
    "    return df\n",
    "\n",
    "# # FUNCTION: Iterate through numPages to provide single list of all page numbers\n",
    "def flatten(pageNum):\n",
    "    return [item for sublist in pageNum for item in sublist]"
   ]
  },
  {
   "cell_type": "code",
   "execution_count": 17,
   "metadata": {},
   "outputs": [],
   "source": [
    "# CREATE DATAFRAME\n",
    "df = dataframe_constructor(docName, pageContent, pageNumber)"
   ]
  },
  {
   "cell_type": "code",
   "execution_count": 18,
   "metadata": {},
   "outputs": [],
   "source": [
    "# EXPORT DATAFRAME\n",
    "df.to_csv(filepath_to_export_data+filename_to_export_data, sep=',', index = False)"
   ]
  }
 ],
 "metadata": {
  "kernelspec": {
   "display_name": "document_comparison_env",
   "language": "python",
   "name": "python3"
  },
  "language_info": {
   "codemirror_mode": {
    "name": "ipython",
    "version": 3
   },
   "file_extension": ".py",
   "mimetype": "text/x-python",
   "name": "python",
   "nbconvert_exporter": "python",
   "pygments_lexer": "ipython3",
   "version": "3.12.0"
  }
 },
 "nbformat": 4,
 "nbformat_minor": 2
}
