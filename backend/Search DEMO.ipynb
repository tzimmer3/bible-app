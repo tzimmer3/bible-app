{
 "cells": [
  {
   "attachments": {},
   "cell_type": "markdown",
   "metadata": {},
   "source": [
    "# Semantic Search on a Corpus"
   ]
  },
  {
   "cell_type": "code",
   "execution_count": 1,
   "metadata": {},
   "outputs": [],
   "source": [
    "# Import Packages\n",
    "import json\n",
    "import numpy as np\n",
    "import pandas as pd\n",
    "import tiktoken\n",
    "from joblib import load"
   ]
  },
  {
   "attachments": {},
   "cell_type": "markdown",
   "metadata": {},
   "source": [
    "## Import Data"
   ]
  },
  {
   "cell_type": "code",
   "execution_count": 2,
   "metadata": {},
   "outputs": [
    {
     "data": {
      "text/plain": [
       "1198"
      ]
     },
     "execution_count": 2,
     "metadata": {},
     "output_type": "execute_result"
    }
   ],
   "source": [
    "# Import Data\n",
    "filepath = \"C:\\\\Users\\\\t_zim\\\\Desktop\\\\Data\\\\Bible\\\\\"\n",
    "filename = \"KJV_chapter_search.json\"\n",
    "\n",
    "df = pd.read_json(str(filepath)+str(filename))\n",
    "len(df)"
   ]
  },
  {
   "cell_type": "code",
   "execution_count": 3,
   "metadata": {},
   "outputs": [],
   "source": [
    "# ================== #\n",
    "# Tokenize Text\n",
    "# ================== #\n",
    "\n",
    "# TODO: change tiktoken out to real tokenizer... or use tiktoken\n",
    "\n",
    "def get_tokens(text_2_encode: str, tokenizer=None):\n",
    "    \"\"\"\n",
    "    Tokenize text in a string.\n",
    "\n",
    "    Initialize a tokenizer if tokenizer == None.\n",
    "    \"\"\"\n",
    "\n",
    "    if tokenizer is None:\n",
    "        tokenizer = tiktoken.encoding_for_model(\"text-davinci-003\")\n",
    "    return tokenizer.encode(text=text_2_encode)\n",
    "\n",
    "\n",
    "def get_num_tokens(text_2_encode: str, **kwargs):\n",
    "    \"\"\"\n",
    "    Count the number of tokens in a string.\n",
    "    \"\"\"\n",
    "    return len(get_tokens(text_2_encode=text_2_encode, **kwargs))\n",
    "\n",
    "\n",
    "# ================== #\n",
    "#  Get Embeddings\n",
    "# ================== #\n",
    "\n",
    "def get_embeddings(text=None, model=None):\n",
    "    \"\"\"\n",
    "    Generate embeddings on a string of text.\n",
    "    \"\"\"\n",
    "    if model==None:\n",
    "        model = load('./model/SentBERTmodel.pkl')\n",
    "\n",
    "    return model.encode(text)\n",
    "\n",
    "\n",
    "# ================== #\n",
    "#  Calculate Vector Similarity\n",
    "# ================== #\n",
    "\n",
    "def vector_similarity(x: \"list[float]\", y: \"list[float]\") -> float:\n",
    "    \"\"\"\n",
    "    Returns the similarity between two vectors.\n",
    "\n",
    "    Because embeddings are normalized to length 1, the cosine similarity is the same as the dot product.\n",
    "    \"\"\"\n",
    "    return np.dot(np.array(x), np.array(y))\n",
    "\n",
    "\n",
    "# ================== #\n",
    "#  Order Chunks by Similarity\n",
    "# ================== #\n",
    "\n",
    "def measure_embedding_similarity(\n",
    "    query: str,\n",
    "    embeddings\n",
    "):\n",
    "    \"\"\"\n",
    "    Find the query embedding for the supplied query, and compare it against all of the pre-calculated document embeddings\n",
    "    to find the most relevant sections.\n",
    "\n",
    "    Return the list of document sections, sorted by relevance in descending order.\n",
    "    \"\"\"\n",
    "    query_embedding = get_embeddings(query)\n",
    "\n",
    "    return [vector_similarity(query_embedding, embedding) for embedding in embeddings]\n",
    "\n",
    "\n",
    "# ================== #\n",
    "#  Get Similar Texts\n",
    "# ================== #\n",
    "\n",
    "def get_similar_texts(df, k):\n",
    "    \"\"\"\n",
    "    Slice a dataframe on the top k results.  Sort the sliced dataframe descending on similarity score.\n",
    "\n",
    "    If there are repeated results in top 5, keep them all.\n",
    "    \"\"\"\n",
    "    response = df.nlargest(k, columns=['similarity score'],keep='all')\n",
    "    response = response.sort_values(by='similarity score', ascending=False)\n",
    "    return response"
   ]
  },
  {
   "cell_type": "code",
   "execution_count": 4,
   "metadata": {},
   "outputs": [],
   "source": [
    "# ================== #\n",
    "#  Run (score.py)\n",
    "# ================== #\n",
    "\n",
    "def run(question: str, k: int, embeddings, df) -> dict[str,str]:\n",
    "\n",
    "    # Retrieve Top K Most Similar Results\n",
    "    df['similarity score'] = measure_embedding_similarity(question, embeddings)\n",
    "\n",
    "    # Count number of tokens in each article\n",
    "    df['token count'] = df['text'].apply(get_num_tokens)\n",
    "    \n",
    "    # Return Chunks With Highest Similarity (Text)\n",
    "    response = get_similar_texts(df, k)\n",
    "\n",
    "    # Remove embeddings column\n",
    "    keep_columns = ['book', \"chapter\", 'text', 'token count', 'similarity score']\n",
    "    response = response[keep_columns]\n",
    "    \n",
    "    return response"
   ]
  },
  {
   "attachments": {},
   "cell_type": "markdown",
   "metadata": {},
   "source": [
    "## Ask Questions"
   ]
  },
  {
   "cell_type": "code",
   "execution_count": 5,
   "metadata": {},
   "outputs": [
    {
     "name": "stderr",
     "output_type": "stream",
     "text": [
      "c:\\Users\\t_zim\\miniconda3\\envs\\bible_app\\lib\\site-packages\\tqdm\\auto.py:21: TqdmWarning: IProgress not found. Please update jupyter and ipywidgets. See https://ipywidgets.readthedocs.io/en/stable/user_install.html\n",
      "  from .autonotebook import tqdm as notebook_tqdm\n"
     ]
    },
    {
     "data": {
      "text/html": [
       "<style type=\"text/css\">\n",
       "#T_23c06_row0_col2, #T_23c06_row1_col2, #T_23c06_row2_col2 {\n",
       "  width: 900px;\n",
       "}\n",
       "</style>\n",
       "<table id=\"T_23c06\">\n",
       "  <thead>\n",
       "    <tr>\n",
       "      <th class=\"blank level0\" >&nbsp;</th>\n",
       "      <th id=\"T_23c06_level0_col0\" class=\"col_heading level0 col0\" >book</th>\n",
       "      <th id=\"T_23c06_level0_col1\" class=\"col_heading level0 col1\" >chapter</th>\n",
       "      <th id=\"T_23c06_level0_col2\" class=\"col_heading level0 col2\" >text</th>\n",
       "      <th id=\"T_23c06_level0_col3\" class=\"col_heading level0 col3\" >token count</th>\n",
       "      <th id=\"T_23c06_level0_col4\" class=\"col_heading level0 col4\" >similarity score</th>\n",
       "    </tr>\n",
       "  </thead>\n",
       "  <tbody>\n",
       "    <tr>\n",
       "      <th id=\"T_23c06_level0_row0\" class=\"row_heading level0 row0\" >711</th>\n",
       "      <td id=\"T_23c06_row0_col0\" class=\"data row0 col0\" >John</td>\n",
       "      <td id=\"T_23c06_row0_col1\" class=\"data row0 col1\" >14</td>\n",
       "      <td id=\"T_23c06_row0_col2\" class=\"data row0 col2\" >Let not your heart be troubled: ye believe in God, believe also in me. In my Father's house are many mansions: if <i>it were</i> not <i>so</i>, I would have told you. I go to prepare a place for you. And if I go and prepare a place for you, I will come again, and receive you unto myself; that where I am, <i>there</i> ye may be also. And whither I go ye know, and the way ye know. Thomas saith unto him, Lord, we know not whither thou goest; and how can we know the way? Jesus saith unto him, I am the way, the truth, and the life: no man cometh unto the Father, but by me. If ye had known me, ye should have known my Father also: and from henceforth ye know him, and have seen him. Philip saith unto him, Lord, shew us the Father, and it sufficeth us. Jesus saith unto him, Have I been so long time with you, and yet hast thou not known me, Philip? he that hath seen me hath seen the Father; and how sayest thou <i>then</i>, Shew us the Father? Believest thou not that I am in the Father, and the Father in me? the words that I speak unto you I speak not of myself: but the Father that dwelleth in me, he doeth the works. Believe me that I <i>am</i> in the Father, and the Father in me: or else believe me for the very works' sake. Verily, verily, I say unto you, He that believeth on me, the works that I do shall he do also; and greater <i>works</i> than these shall he do; because I go unto my Father. And whatsoever ye shall ask in my name, that will I do, that the Father may be glorified in the Son. If ye shall ask any thing in my name, I will do <i>it</i>. If ye love me, keep my commandments. And I will pray the Father, and he shall give you another Comforter, that he may abide with you for ever; <i>Even</i> the Spirit of truth; whom the world cannot receive, because it seeth him not, neither knoweth him: but ye know him; for he dwelleth with you, and shall be in you. I will not leave you comfortless: I will come to you. Yet a little while, and the world seeth me no more; but ye see me: because I live, ye shall live also. At that day ye shall know that I <i>am</i> in my Father, and ye in me, and I in you. He that hath my commandments, and keepeth them, he it is that loveth me: and he that loveth me shall be loved of my Father, and I will love him, and will manifest myself to him. Judas saith unto him, not Iscariot, Lord, how is it that thou wilt manifest thyself unto us, and not unto the world? Jesus answered and said unto him, If a man love me, he will keep my words: and my Father will love him, and we will come unto him, and make our abode with him. He that loveth me not keepeth not my sayings: and the word which ye hear is not mine, but the Father's which sent me. These things have I spoken unto you, being <i>yet</i> present with you. But the Comforter, <i>which is</i> the Holy Ghost, whom the Father will send in my name, he shall teach you all things, and bring all things to your remembrance, whatsoever I have said unto you. Peace I leave with you, my peace I give unto you: not as the world giveth, give I unto you. Let not your heart be troubled, neither let it be afraid. Ye have heard how I said unto you, I go away, and come <i>again</i> unto you. If ye loved me, ye would rejoice, because I said, I go unto the Father: for my Father is greater than I. And now I have told you before it come to pass, that, when it is come to pass, ye might believe. Hereafter I will not talk much with you: for the prince of this world cometh, and hath nothing in me. But that the world may know that I love the Father; and as the Father gave me commandment, even so I do. Arise, let us go hence.</td>\n",
       "      <td id=\"T_23c06_row0_col3\" class=\"data row0 col3\" >991</td>\n",
       "      <td id=\"T_23c06_row0_col4\" class=\"data row0 col4\" >0.400252</td>\n",
       "    </tr>\n",
       "    <tr>\n",
       "      <th id=\"T_23c06_level0_row1\" class=\"row_heading level0 row1\" >1163</th>\n",
       "      <td id=\"T_23c06_row1_col0\" class=\"data row1 col0\" >Song of Solomon</td>\n",
       "      <td id=\"T_23c06_row1_col1\" class=\"data row1 col1\" >3</td>\n",
       "      <td id=\"T_23c06_row1_col2\" class=\"data row1 col2\" >By night on my bed I sought him whom my soul loveth: I sought him, but I found him not. I will rise now, and go about the city in the streets, and in the broad ways I will seek him whom my soul loveth: I sought him, but I found him not. The watchmen that go about the city found me: <i>to whom I said</i>, Saw ye him whom my soul loveth? <i>It was</i> but a little that I passed from them, but I found him whom my soul loveth: I held him, and would not let him go, until I had brought him into my mother's house, and into the chamber of her that conceived me. I charge you, O ye daughters of Jerusalem, by the roes, and by the hinds of the field, that ye stir not up, nor awake <i>my</i> love, till he please. Who <i>is</i> this that cometh out of the wilderness like pillars of smoke, perfumed with myrrh and frankincense, with all powders of the merchant? Behold his bed, which <i>is</i> Solomon's; threescore valiant men <i>are</i> about it, of the valiant of Israel. They all hold swords, <i>being</i> expert in war: every man <i>hath</i> his sword upon his thigh because of fear in the night. King Solomon made himself a chariot of the wood of Lebanon. He made the pillars thereof <i>of</i> silver, the bottom thereof <i>of</i> gold, the covering of it <i>of</i> purple, the midst thereof being paved <i>with</i> love, for the daughters of Jerusalem. Go forth, O ye daughters of Zion, and behold king Solomon with the crown wherewith his mother crowned him in the day of his espousals, and in the day of the gladness of his heart.</td>\n",
       "      <td id=\"T_23c06_row1_col3\" class=\"data row1 col3\" >428</td>\n",
       "      <td id=\"T_23c06_row1_col4\" class=\"data row1 col4\" >0.398384</td>\n",
       "    </tr>\n",
       "    <tr>\n",
       "      <th id=\"T_23c06_level0_row2\" class=\"row_heading level0 row2\" >238</th>\n",
       "      <td id=\"T_23c06_row2_col0\" class=\"data row2 col0\" >Acts</td>\n",
       "      <td id=\"T_23c06_row2_col1\" class=\"data row2 col1\" >10</td>\n",
       "      <td id=\"T_23c06_row2_col2\" class=\"data row2 col2\" >There was a certain man in Caesarea called Cornelius, a centurion of the band called the Italian <i>band</i>, <i>A</i> devout <i>man</i>, and one that feared God with all his house, which gave much alms to the people, and prayed to God alway. He saw in a vision evidently about the ninth hour of the day an angel of God coming in to him, and saying unto him, Cornelius. And when he looked on him, he was afraid, and said, What is it, Lord? And he said unto him, Thy prayers and thine alms are come up for a memorial before God. And now send men to Joppa, and call for <i>one</i> Simon, whose surname is Peter: He lodgeth with one Simon a tanner, whose house is by the sea side: he shall tell thee what thou oughtest to do. And when the angel which spake unto Cornelius was departed, he called two of his household servants, and a devout soldier of them that waited on him continually; And when he had declared all <i>these</i> things unto them, he sent them to Joppa. On the morrow, as they went on their journey, and drew nigh unto the city, Peter went up upon the housetop to pray about the sixth hour: And he became very hungry, and would have eaten: but while they made ready, he fell into a trance, And saw heaven opened, and a certain vessel descending unto him, as it had been a great sheet knit at the four corners, and let down to the earth: Wherein were all manner of fourfooted beasts of the earth, and wild beasts, and creeping things, and fowls of the air. And there came a voice to him, Rise, Peter; kill, and eat. But Peter said, Not so, Lord; for I have never eaten any thing that is common or unclean. And the voice <i>spake</i> unto him again the second time, What God hath cleansed, <i>that</i> call not thou common. This was done thrice: and the vessel was received up again into heaven. Now while Peter doubted in himself what this vision which he had seen should mean, behold, the men which were sent from Cornelius had made inquiry for Simon's house, and stood before the gate, And called, and asked whether Simon, which was surnamed Peter, were lodged there. While Peter thought on the vision, the Spirit said unto him, Behold, three men seek thee. Arise therefore, and get thee down, and go with them, doubting nothing: for I have sent them. Then Peter went down to the men which were sent unto him from Cornelius; and said, Behold, I am he whom ye seek: what <i>is</i> the cause wherefore ye are come? And they said, Cornelius the centurion, a just man, and one that feareth God, and of good report among all the nation of the Jews, was warned from God by an holy angel to send for thee into his house, and to hear words of thee. Then called he them in, and lodged <i>them</i>. And on the morrow Peter went away with them, and certain brethren from Joppa accompanied him. And the morrow after they entered into Caesarea. And Cornelius waited for them, and had called together his kinsmen and near friends. And as Peter was coming in, Cornelius met him, and fell down at his feet, and worshipped <i>him</i>. But Peter took him up, saying, Stand up; I myself also am a man. And as he talked with him, he went in, and found many that were come together. And he said unto them, Ye know how that it is an unlawful thing for a man that is a Jew to keep company, or come unto one of another nation; but God hath shewed me that I should not call any man common or unclean. Therefore came I <i>unto you</i> without gainsaying, as soon as I was sent for: I ask therefore for what intent ye have sent for me? And Cornelius said, Four days ago I was fasting until this hour; and at the ninth hour I prayed in my house, and, behold, a man stood before me in bright clothing, And said, Cornelius, thy prayer is heard, and thine alms are had in remembrance in the sight of God. Send therefore to Joppa, and call hither Simon, whose surname is Peter; he is lodged in the house of <i>one</i> Simon a tanner by the sea side: who, when he cometh, shall speak unto thee. Immediately therefore I sent to thee; and thou hast well done that thou art come. Now therefore are we all here present before God, to hear all things that are commanded thee of God. Then Peter opened <i>his</i> mouth, and said, Of a truth I perceive that God is no respecter of persons: But in every nation he that feareth him, and worketh righteousness, is accepted with him. The word which <i>God</i> sent unto the children of Israel, preaching peace by Jesus Christ: (he is Lord of all:) That word, <i>I say</i>, ye know, which was published throughout all Judaea, and began from Galilee, after the baptism which John preached; How God anointed Jesus of Nazareth with the Holy Ghost and with power: who went about doing good, and healing all that were oppressed of the devil; for God was with him. And we are witnesses of all things which he did both in the land of the Jews, and in Jerusalem; whom they slew and hanged on a tree: Him God raised up the third day, and shewed him openly; Not to all the people, but unto witnesses chosen before of God, <i>even</i> to us, who did eat and drink with him after he rose from the dead. And he commanded us to preach unto the people, and to testify that it is he which was ordained of God <i>to be</i> the Judge of quick and dead. To him give all the prophets witness, that through his name whosoever believeth in him shall receive remission of sins. While Peter yet spake these words, the Holy Ghost fell on all them which heard the word. And they of the circumcision which believed were astonished, as many as came with Peter, because that on the Gentiles also was poured out the gift of the Holy Ghost. For they heard them speak with tongues, and magnify God. Then answered Peter, Can any man forbid water, that these should not be baptized, which have received the Holy Ghost as well as we? And he commanded them to be baptized in the name of the Lord. Then prayed they him to tarry certain days.</td>\n",
       "      <td id=\"T_23c06_row2_col3\" class=\"data row2 col3\" >1459</td>\n",
       "      <td id=\"T_23c06_row2_col4\" class=\"data row2 col4\" >0.361350</td>\n",
       "    </tr>\n",
       "  </tbody>\n",
       "</table>\n"
      ],
      "text/plain": [
       "<pandas.io.formats.style.Styler at 0x1566d106a90>"
      ]
     },
     "execution_count": 5,
     "metadata": {},
     "output_type": "execute_result"
    }
   ],
   "source": [
    "response = run(\"who is my father?\", 3, df['embeddings'], df)\n",
    "\n",
    "response.style.set_properties(subset=['text'], **{'width': '900px'})"
   ]
  },
  {
   "attachments": {},
   "cell_type": "markdown",
   "metadata": {},
   "source": [
    "## Output Data (if needed)"
   ]
  },
  {
   "cell_type": "code",
   "execution_count": 6,
   "metadata": {},
   "outputs": [
    {
     "data": {
      "text/plain": [
       "'\\n\\ndel df[\\'similarity score\\']\\n\\nOUTPUT_filepath = \"C:\\\\Users\\\\hlmq\\\\OneDrive - Chevron\\\\Desktop\\\\Projects\\\\Company Relationships\\\\Data\\\\Exxon\\\\\"\\nOUTPUT_file = \"CompanyProfileNewsData_withEmbeddings.json\"\\n\\ndf.to_json(str(OUTPUT_filepath)+str(OUTPUT_file), orient=\\'records\\')\\n\\n'"
      ]
     },
     "execution_count": 6,
     "metadata": {},
     "output_type": "execute_result"
    }
   ],
   "source": [
    "\"\"\"\n",
    "\n",
    "del df['similarity score']\n",
    "\n",
    "OUTPUT_filepath = \"C:\\\\Users\\\\hlmq\\\\OneDrive - Chevron\\\\Desktop\\\\Projects\\\\Company Relationships\\\\Data\\\\Exxon\\\\\"\n",
    "OUTPUT_file = \"CompanyProfileNewsData_withEmbeddings.json\"\n",
    "\n",
    "df.to_json(str(OUTPUT_filepath)+str(OUTPUT_file), orient='records')\n",
    "\n",
    "\"\"\""
   ]
  },
  {
   "cell_type": "code",
   "execution_count": null,
   "metadata": {},
   "outputs": [],
   "source": []
  },
  {
   "cell_type": "code",
   "execution_count": null,
   "metadata": {},
   "outputs": [],
   "source": []
  }
 ],
 "metadata": {
  "kernelspec": {
   "display_name": "nlp_testing",
   "language": "python",
   "name": "python3"
  },
  "language_info": {
   "codemirror_mode": {
    "name": "ipython",
    "version": 3
   },
   "file_extension": ".py",
   "mimetype": "text/x-python",
   "name": "python",
   "nbconvert_exporter": "python",
   "pygments_lexer": "ipython3",
   "version": "3.9.5"
  },
  "orig_nbformat": 4,
  "vscode": {
   "interpreter": {
    "hash": "ee9cf5fd0714cb920d7340508c15063f95cfdc9bae6b029d25aa5c3349178639"
   }
  }
 },
 "nbformat": 4,
 "nbformat_minor": 2
}
