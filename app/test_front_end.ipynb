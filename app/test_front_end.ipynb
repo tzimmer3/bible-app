{
 "cells": [
  {
   "cell_type": "code",
   "execution_count": null,
   "metadata": {},
   "outputs": [],
   "source": [
    "import gradio as gr\n",
    "\n",
    "from src.SearchEngine import SearchEngine\n",
    "engine = SearchEngine()"
   ]
  },
  {
   "cell_type": "markdown",
   "metadata": {},
   "source": [
    "## Simple Interface"
   ]
  },
  {
   "cell_type": "code",
   "execution_count": null,
   "metadata": {},
   "outputs": [],
   "source": [
    "# Creating a Gradio interface for the chatbot\n",
    "with gr.Blocks() as demo:\n",
    "    title = gr.HTML(engine.tab1_title)\n",
    "    instructions = gr.HTML(engine.tab1_instructions)\n",
    "\n",
    "    with gr.Row(equal_height=True):\n",
    "        similarity = gr.Radio(label=\"Similarity Filter:\", choices=[\"In For A Suprize\", \"Pretty Good\", \"Only The Best\"])\n",
    "        level_of_abstraction = gr.Radio(label=\"Level of Abstraction:\", choices=[\"Chapter\", \"Heading\", \"Verse\"])\n",
    "        testament = gr.Radio(label=\"Testament:\", choices=[\"Whole Bible\", \"Old Testament\", \"New Testament\"])\n",
    "        k = gr.Slider(minimum= 3, maximum= 15, step=1, label=\"How many results to return?\")\n",
    "        cross_encoding = gr.Checkbox(label=\"Advanced Search? \\n Will take longer to receive results.\")\n",
    "\n",
    "    input = gr.Textbox(label=\"What would you like to know?\")  # Textbox for user input\n",
    "    btn = gr.Button(\"Search The Word\")  # Button to trigger the agent call\n",
    "    output = gr.Dataframe(label=\"Results: \")  # Dataframe for chatbot response\n",
    "    btn.click(fn=engine.tab1_engine, inputs=input, outputs=output)\n",
    "\n",
    "# Launching the Gradio interface\n",
    "demo.launch(share=True, debug=True)"
   ]
  },
  {
   "cell_type": "code",
   "execution_count": null,
   "metadata": {},
   "outputs": [],
   "source": []
  }
 ],
 "metadata": {
  "kernelspec": {
   "display_name": "bible_app",
   "language": "python",
   "name": "python3"
  },
  "language_info": {
   "codemirror_mode": {
    "name": "ipython",
    "version": 3
   },
   "file_extension": ".py",
   "mimetype": "text/x-python",
   "name": "python",
   "nbconvert_exporter": "python",
   "pygments_lexer": "ipython3",
   "version": "3.9.5"
  }
 },
 "nbformat": 4,
 "nbformat_minor": 2
}
