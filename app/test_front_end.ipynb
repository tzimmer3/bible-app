{
 "cells": [
  {
   "cell_type": "code",
   "execution_count": 1,
   "metadata": {},
   "outputs": [
    {
     "name": "stderr",
     "output_type": "stream",
     "text": [
      "c:\\Users\\t_zim\\miniconda3\\envs\\bible_app\\lib\\site-packages\\tqdm\\auto.py:21: TqdmWarning: IProgress not found. Please update jupyter and ipywidgets. See https://ipywidgets.readthedocs.io/en/stable/user_install.html\n",
      "  from .autonotebook import tqdm as notebook_tqdm\n"
     ]
    }
   ],
   "source": [
    "import gradio as gr\n",
    "\n",
    "from src.SearchEngine import SearchEngine\n",
    "engine = SearchEngine()"
   ]
  },
  {
   "cell_type": "markdown",
   "metadata": {},
   "source": [
    "## Application"
   ]
  },
  {
   "cell_type": "code",
   "execution_count": 2,
   "metadata": {},
   "outputs": [
    {
     "name": "stdout",
     "output_type": "stream",
     "text": [
      "IMPORTANT: You are using gradio version 4.0.2, however version 4.44.1 is available, please upgrade.\n",
      "--------\n",
      "Running on local URL:  http://127.0.0.1:7860\n",
      "Running on public URL: https://31c9d9865b4d8d4ea0.gradio.live\n",
      "\n",
      "This share link expires in 72 hours. For free permanent hosting and GPU upgrades, run `gradio deploy` from Terminal to deploy to Spaces (https://huggingface.co/spaces)\n"
     ]
    },
    {
     "data": {
      "text/html": [
       "<div><iframe src=\"https://31c9d9865b4d8d4ea0.gradio.live\" width=\"100%\" height=\"500\" allow=\"autoplay; camera; microphone; clipboard-read; clipboard-write;\" frameborder=\"0\" allowfullscreen></iframe></div>"
      ],
      "text/plain": [
       "<IPython.core.display.HTML object>"
      ]
     },
     "metadata": {},
     "output_type": "display_data"
    },
    {
     "name": "stdout",
     "output_type": "stream",
     "text": [
      "Cross Encoding...\n",
      "Keyboard interruption in main thread... closing server.\n",
      "Killing tunnel 127.0.0.1:7860 <> https://31c9d9865b4d8d4ea0.gradio.live\n"
     ]
    },
    {
     "data": {
      "text/plain": []
     },
     "execution_count": 2,
     "metadata": {},
     "output_type": "execute_result"
    }
   ],
   "source": [
    "# Creating a Gradio interface for the chatbot\n",
    "with gr.Blocks() as demo:\n",
    "    title = gr.HTML(engine.tab1_title)\n",
    "    instructions = gr.HTML(engine.tab1_instructions)\n",
    "\n",
    "    # User tuning parameters\n",
    "    with gr.Row(equal_height=True):\n",
    "        similarity_score = gr.Radio(value=\"In For A Suprize\", label=\"Similarity Filter:\", choices=[\"In For A Suprize\", \"Pretty Good\", \"Only The Best\"])\n",
    "        level_of_abstraction = gr.Radio(value=\"Verse\", label=\"Level of Abstraction:\", choices=[\"Verse\", \"Heading\", \"Chapter\"])\n",
    "        testament = gr.Radio(value=\"Whole Bible\", label=\"Testament:\", choices=[\"Whole Bible\", \"Old Testament\", \"New Testament\"])\n",
    "        k = gr.Slider(1,15, value=3, step=1, label=\"How many results to return?\")\n",
    "        cross_encoding = gr.Checkbox(value=False, label=\"Advanced Search?                 (Will take longer to receive results.)\")\n",
    "\n",
    "    question = gr.Textbox(label=\"What would you like to know?\")  # Textbox for user input\n",
    "    tab1_submit_button = gr.Button(\"Search The Word\")  # Button to trigger the agent call\n",
    "    output = gr.Dataframe(label=\"Results: \")  # Dataframe for chatbot response\n",
    "\n",
    "    # Collate the inputs\n",
    "    tab1_inputs = [question, cross_encoding, testament, k, similarity_score] # Add: level_of_abstraction, \n",
    "    # Execute the function\n",
    "    tab1_submit_button.click(fn=engine.tab1_engine, inputs=tab1_inputs, outputs=output)\n",
    "\n",
    "# Launching the Gradio interface\n",
    "demo.launch(share=True, debug=True)"
   ]
  },
  {
   "cell_type": "code",
   "execution_count": null,
   "metadata": {},
   "outputs": [],
   "source": []
  }
 ],
 "metadata": {
  "kernelspec": {
   "display_name": "bible_app",
   "language": "python",
   "name": "python3"
  },
  "language_info": {
   "codemirror_mode": {
    "name": "ipython",
    "version": 3
   },
   "file_extension": ".py",
   "mimetype": "text/x-python",
   "name": "python",
   "nbconvert_exporter": "python",
   "pygments_lexer": "ipython3",
   "version": "3.9.5"
  }
 },
 "nbformat": 4,
 "nbformat_minor": 2
}
