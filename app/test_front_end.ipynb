{
 "cells": [
  {
   "cell_type": "code",
   "execution_count": 1,
   "metadata": {},
   "outputs": [
    {
     "name": "stderr",
     "output_type": "stream",
     "text": [
      "c:\\Users\\t_zim\\miniconda3\\envs\\bible_app_env2\\lib\\site-packages\\tqdm\\auto.py:21: TqdmWarning: IProgress not found. Please update jupyter and ipywidgets. See https://ipywidgets.readthedocs.io/en/stable/user_install.html\n",
      "  from .autonotebook import tqdm as notebook_tqdm\n"
     ]
    }
   ],
   "source": [
    "import gradio as gr\n",
    "from fastapi import FastAPI, Request\n",
    "\n",
    "from src.SearchEngine import SearchEngine\n",
    "engine = SearchEngine()\n",
    "\n",
    "# Create FastAPI Object\n",
    "app = FastAPI()"
   ]
  },
  {
   "cell_type": "markdown",
   "metadata": {},
   "source": [
    "## Application"
   ]
  },
  {
   "cell_type": "code",
   "execution_count": 4,
   "metadata": {},
   "outputs": [
    {
     "name": "stdout",
     "output_type": "stream",
     "text": [
      "IMPORTANT: You are using gradio version 4.0.2, however version 4.44.1 is available, please upgrade.\n",
      "--------\n"
     ]
    },
    {
     "data": {
      "text/plain": [
       "<fastapi.applications.FastAPI at 0x25590b039a0>"
      ]
     },
     "execution_count": 4,
     "metadata": {},
     "output_type": "execute_result"
    },
    {
     "name": "stdout",
     "output_type": "stream",
     "text": [
      "IMPORTANT: You are using gradio version 4.0.2, however version 4.44.1 is available, please upgrade.\n",
      "--------\n",
      "IMPORTANT: You are using gradio version 4.0.2, however version 4.44.1 is available, please upgrade.\n",
      "--------\n"
     ]
    }
   ],
   "source": [
    "# ----------------------- #\n",
    "#\n",
    "#   Gradio App\n",
    "#\n",
    "# ----------------------- #\n",
    "\n",
    "# ====== #\n",
    "# Tab1: Chat\n",
    "# ====== #\n",
    "\n",
    "# Creating a Gradio interface for the chatbot\n",
    "with gr.Blocks() as engine.tab1_page_name:\n",
    "    title = gr.HTML(engine.tab1_title)\n",
    "    instructions = gr.HTML(engine.tab1_instructions)\n",
    "\n",
    "    # User tuning parameters\n",
    "    with gr.Row(equal_height=True):\n",
    "        similarity_score = gr.Radio(value=\"In For A Suprize\", label=\"Similarity Filter:\", choices=[\"In For A Suprize\", \"Pretty Good\", \"Only The Best\"])\n",
    "        level_of_abstraction = gr.Radio(value=\"Verse\", label=\"Level of Abstraction:\", choices=[\"Verse\", \"Heading\", \"Chapter\"])\n",
    "        testament = gr.Radio(value=\"Whole Bible\", label=\"Testament:\", choices=[\"Whole Bible\", \"Old Testament\", \"New Testament\"])\n",
    "        k = gr.Slider(1,15, value=3, step=1, label=\"How many results to return?\")\n",
    "        cross_encoding = gr.Checkbox(value=False, label=\"Advanced Search?                 (Will take longer to receive results.)\")\n",
    "\n",
    "    question = gr.Textbox(label=\"What would you like to know?\")  # Textbox for user input\n",
    "    tab1_submit_button = gr.Button(\"Search The Word\")  # Button to trigger the agent call\n",
    "    output = gr.Dataframe(label=\"Results: \")  # Dataframe for chatbot response\n",
    "\n",
    "    # Collate the inputs\n",
    "    tab1_inputs = [question, cross_encoding, testament, k, similarity_score] # Add: level_of_abstraction, \n",
    "    # Execute the function\n",
    "    tab1_submit_button.click(fn=engine.tab1_engine, inputs=tab1_inputs, outputs=output)\n",
    "\n",
    "\n",
    "# ====== #\n",
    "# Tab4: FAQ\n",
    "# ====== #\n",
    "with gr.Blocks(theme=gr.themes.Glass()) as engine.tab4_page_name:\n",
    "    title = gr.HTML(engine.tab4_title)\n",
    "    # Instructions\n",
    "    instructions = gr.Markdown(value=engine.tab4_instructions)\n",
    "\n",
    "\n",
    "# ====== #\n",
    "# Put it together\n",
    "# ====== #\n",
    "\n",
    "# Assemble gradio app\n",
    "demo = gr.TabbedInterface([engine.tab1_page_name, engine.tab4_page_name], [engine.tab1_title, engine.tab4_title], title=engine.app_name)\n",
    "\n",
    "# application = gr.mount_gradio_app(app, demo, path=\"/home\", auth_dependency=engine.get_token)\n",
    "# Mount gradio app into FastAPI\n",
    "application = gr.mount_gradio_app(app, demo, path=\"/home\")\n",
    "\n",
    "application\n"
   ]
  },
  {
   "cell_type": "code",
   "execution_count": null,
   "metadata": {},
   "outputs": [],
   "source": []
  }
 ],
 "metadata": {
  "kernelspec": {
   "display_name": "bible_app_env2",
   "language": "python",
   "name": "python3"
  },
  "language_info": {
   "codemirror_mode": {
    "name": "ipython",
    "version": 3
   },
   "file_extension": ".py",
   "mimetype": "text/x-python",
   "name": "python",
   "nbconvert_exporter": "python",
   "pygments_lexer": "ipython3",
   "version": "3.9.5"
  }
 },
 "nbformat": 4,
 "nbformat_minor": 2
}
