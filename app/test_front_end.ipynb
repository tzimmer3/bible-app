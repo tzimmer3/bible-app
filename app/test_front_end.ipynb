{
 "cells": [
  {
   "cell_type": "code",
   "execution_count": 5,
   "metadata": {},
   "outputs": [],
   "source": [
    "import gradio as gr\n",
    "\n",
    "from src.SearchEngine import SearchEngine\n",
    "engine = SearchEngine()"
   ]
  },
  {
   "cell_type": "markdown",
   "metadata": {},
   "source": [
    "## Application"
   ]
  },
  {
   "cell_type": "code",
   "execution_count": 6,
   "metadata": {},
   "outputs": [
    {
     "name": "stdout",
     "output_type": "stream",
     "text": [
      "Running on local URL:  http://127.0.0.1:7860\n",
      "\n",
      "Could not create share link. Please check your internet connection or our status page: https://status.gradio.app.\n"
     ]
    },
    {
     "data": {
      "text/html": [
       "<div><iframe src=\"http://127.0.0.1:7860/\" width=\"100%\" height=\"500\" allow=\"autoplay; camera; microphone; clipboard-read; clipboard-write;\" frameborder=\"0\" allowfullscreen></iframe></div>"
      ],
      "text/plain": [
       "<IPython.core.display.HTML object>"
      ]
     },
     "metadata": {},
     "output_type": "display_data"
    },
    {
     "name": "stdout",
     "output_type": "stream",
     "text": [
      "Keyboard interruption in main thread... closing server.\n"
     ]
    },
    {
     "data": {
      "text/plain": []
     },
     "execution_count": 6,
     "metadata": {},
     "output_type": "execute_result"
    }
   ],
   "source": [
    "# Creating a Gradio interface for the chatbot\n",
    "with gr.Blocks() as demo:\n",
    "    title = gr.HTML(engine.tab1_title)\n",
    "    instructions = gr.HTML(engine.tab1_instructions)\n",
    "\n",
    "    # User tuning parameters\n",
    "    with gr.Row(equal_height=True):\n",
    "        # similarity_score = gr.Radio(label=\"Similarity Filter:\", choices=[\"In For A Suprize\", \"Pretty Good\", \"Only The Best\"])\n",
    "        similarity_score = gr.Radio(label=\"Similarity Filter:\", choices=[.4,.5,.6])\n",
    "        level_of_abstraction = gr.Radio(label=\"Level of Abstraction:\", choices=[\"Chapter\", \"Heading\", \"Verse\"])\n",
    "        testament = gr.Radio(label=\"Testament:\", choices=[\"Whole Bible\", \"Old Testament\", \"New Testament\"])\n",
    "        k = gr.Slider(minimum= 3, maximum= 15, step=1, label=\"How many results to return?\")\n",
    "        cross_encoding = gr.Checkbox(label=\"Advanced Search?  (Will take longer to receive results.)\")\n",
    "\n",
    "    question = gr.Textbox(label=\"What would you like to know?\")  # Textbox for user input\n",
    "    tab1_submit_button = gr.Button(\"Search The Word\")  # Button to trigger the agent call\n",
    "    output = gr.Dataframe(label=\"Results: \")  # Dataframe for chatbot response\n",
    "\n",
    "    # Collate the inputs\n",
    "    tab1_inputs = [question, cross_encoding, testament, k, similarity_score] # Add: level_of_abstraction, \n",
    "    # Execute the function\n",
    "    tab1_submit_button.click(fn=engine.tab1_engine, inputs=tab1_inputs, outputs=output)\n",
    "\n",
    "# Launching the Gradio interface\n",
    "demo.launch(share=True, debug=True)"
   ]
  },
  {
   "cell_type": "code",
   "execution_count": null,
   "metadata": {},
   "outputs": [],
   "source": []
  }
 ],
 "metadata": {
  "kernelspec": {
   "display_name": "bible_app",
   "language": "python",
   "name": "python3"
  },
  "language_info": {
   "codemirror_mode": {
    "name": "ipython",
    "version": 3
   },
   "file_extension": ".py",
   "mimetype": "text/x-python",
   "name": "python",
   "nbconvert_exporter": "python",
   "pygments_lexer": "ipython3",
   "version": "3.9.5"
  }
 },
 "nbformat": 4,
 "nbformat_minor": 2
}
