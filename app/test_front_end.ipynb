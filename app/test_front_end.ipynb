{
 "cells": [
  {
   "cell_type": "code",
   "execution_count": 1,
   "metadata": {},
   "outputs": [
    {
     "name": "stderr",
     "output_type": "stream",
     "text": [
      "c:\\ProgramData\\Miniconda3\\envs\\espReports_env\\Lib\\site-packages\\tqdm\\auto.py:21: TqdmWarning: IProgress not found. Please update jupyter and ipywidgets. See https://ipywidgets.readthedocs.io/en/stable/user_install.html\n",
      "  from .autonotebook import tqdm as notebook_tqdm\n"
     ]
    },
    {
     "ename": "ModuleNotFoundError",
     "evalue": "No module named 'joblib'",
     "output_type": "error",
     "traceback": [
      "\u001b[1;31m---------------------------------------------------------------------------\u001b[0m",
      "\u001b[1;31mModuleNotFoundError\u001b[0m                       Traceback (most recent call last)",
      "Cell \u001b[1;32mIn[1], line 4\u001b[0m\n\u001b[0;32m      1\u001b[0m \u001b[38;5;28;01mimport\u001b[39;00m \u001b[38;5;21;01mgradio\u001b[39;00m \u001b[38;5;28;01mas\u001b[39;00m \u001b[38;5;21;01mgr\u001b[39;00m\n\u001b[0;32m      2\u001b[0m \u001b[38;5;28;01mfrom\u001b[39;00m \u001b[38;5;21;01mfastapi\u001b[39;00m \u001b[38;5;28;01mimport\u001b[39;00m FastAPI, Request\n\u001b[1;32m----> 4\u001b[0m \u001b[38;5;28;01mfrom\u001b[39;00m \u001b[38;5;21;01msrc\u001b[39;00m\u001b[38;5;21;01m.\u001b[39;00m\u001b[38;5;21;01mSearchEngine\u001b[39;00m \u001b[38;5;28;01mimport\u001b[39;00m SearchEngine\n\u001b[0;32m      5\u001b[0m engine \u001b[38;5;241m=\u001b[39m SearchEngine()\n\u001b[0;32m      7\u001b[0m \u001b[38;5;66;03m# Create FastAPI Object\u001b[39;00m\n",
      "File \u001b[1;32mc:\\Users\\hlmq\\code\\bible-app\\app\\src\\SearchEngine.py:4\u001b[0m\n\u001b[0;32m      2\u001b[0m \u001b[38;5;28;01mimport\u001b[39;00m \u001b[38;5;21;01mnumpy\u001b[39;00m \u001b[38;5;28;01mas\u001b[39;00m \u001b[38;5;21;01mnp\u001b[39;00m\n\u001b[0;32m      3\u001b[0m \u001b[38;5;28;01mimport\u001b[39;00m \u001b[38;5;21;01mpandas\u001b[39;00m \u001b[38;5;28;01mas\u001b[39;00m \u001b[38;5;21;01mpd\u001b[39;00m\n\u001b[1;32m----> 4\u001b[0m \u001b[38;5;28;01mfrom\u001b[39;00m \u001b[38;5;21;01mjoblib\u001b[39;00m \u001b[38;5;28;01mimport\u001b[39;00m load\n\u001b[0;32m      5\u001b[0m \u001b[38;5;28;01mfrom\u001b[39;00m \u001b[38;5;21;01msentence_transformers\u001b[39;00m\u001b[38;5;21;01m.\u001b[39;00m\u001b[38;5;21;01mcross_encoder\u001b[39;00m \u001b[38;5;28;01mimport\u001b[39;00m CrossEncoder\n\u001b[0;32m      6\u001b[0m \u001b[38;5;28;01mimport\u001b[39;00m \u001b[38;5;21;01msrc\u001b[39;00m\u001b[38;5;21;01m.\u001b[39;00m\u001b[38;5;21;01mbe_variables\u001b[39;00m \u001b[38;5;28;01mas\u001b[39;00m \u001b[38;5;21;01mbe_variables\u001b[39;00m\n",
      "\u001b[1;31mModuleNotFoundError\u001b[0m: No module named 'joblib'"
     ]
    }
   ],
   "source": [
    "import gradio as gr\n",
    "from fastapi import FastAPI, Request\n",
    "\n",
    "from src.SearchEngine import SearchEngine\n",
    "engine = SearchEngine()\n",
    "\n",
    "# Create FastAPI Object\n",
    "app = FastAPI()"
   ]
  },
  {
   "cell_type": "markdown",
   "metadata": {},
   "source": [
    "## Application"
   ]
  },
  {
   "cell_type": "code",
   "execution_count": 2,
   "metadata": {},
   "outputs": [
    {
     "name": "stdout",
     "output_type": "stream",
     "text": [
      "IMPORTANT: You are using gradio version 4.0.2, however version 4.44.1 is available, please upgrade.\n",
      "--------\n",
      "Running on local URL:  http://127.0.0.1:7860\n",
      "Running on public URL: https://31c9d9865b4d8d4ea0.gradio.live\n",
      "\n",
      "This share link expires in 72 hours. For free permanent hosting and GPU upgrades, run `gradio deploy` from Terminal to deploy to Spaces (https://huggingface.co/spaces)\n"
     ]
    },
    {
     "data": {
      "text/html": [
       "<div><iframe src=\"https://31c9d9865b4d8d4ea0.gradio.live\" width=\"100%\" height=\"500\" allow=\"autoplay; camera; microphone; clipboard-read; clipboard-write;\" frameborder=\"0\" allowfullscreen></iframe></div>"
      ],
      "text/plain": [
       "<IPython.core.display.HTML object>"
      ]
     },
     "metadata": {},
     "output_type": "display_data"
    },
    {
     "name": "stdout",
     "output_type": "stream",
     "text": [
      "Cross Encoding...\n",
      "Keyboard interruption in main thread... closing server.\n",
      "Killing tunnel 127.0.0.1:7860 <> https://31c9d9865b4d8d4ea0.gradio.live\n"
     ]
    },
    {
     "data": {
      "text/plain": []
     },
     "execution_count": 2,
     "metadata": {},
     "output_type": "execute_result"
    }
   ],
   "source": [
    "# ====== #\n",
    "# Tab1: Chat\n",
    "# ====== #\n",
    "\n",
    "# Creating a Gradio interface for the chatbot\n",
    "with gr.Blocks() as engine.tab1_page_name:\n",
    "    title = gr.HTML(engine.tab1_title)\n",
    "    instructions = gr.HTML(engine.tab1_instructions)\n",
    "\n",
    "    # User tuning parameters\n",
    "    with gr.Row(equal_height=True):\n",
    "        similarity_score = gr.Radio(value=\"In For A Suprize\", label=\"Similarity Filter:\", choices=[\"In For A Suprize\", \"Pretty Good\", \"Only The Best\"])\n",
    "        level_of_abstraction = gr.Radio(value=\"Verse\", label=\"Level of Abstraction:\", choices=[\"Verse\", \"Heading\", \"Chapter\"])\n",
    "        testament = gr.Radio(value=\"Whole Bible\", label=\"Testament:\", choices=[\"Whole Bible\", \"Old Testament\", \"New Testament\"])\n",
    "        k = gr.Slider(1,15, value=3, step=1, label=\"How many results to return?\")\n",
    "        cross_encoding = gr.Checkbox(value=False, label=\"Advanced Search?                 (Will take longer to receive results.)\")\n",
    "\n",
    "    question = gr.Textbox(label=\"What would you like to know?\")  # Textbox for user input\n",
    "    tab1_submit_button = gr.Button(\"Search The Word\")  # Button to trigger the agent call\n",
    "    output = gr.Dataframe(label=\"Results: \")  # Dataframe for chatbot response\n",
    "\n",
    "    # Collate the inputs\n",
    "    tab1_inputs = [question, cross_encoding, testament, k, similarity_score] # Add: level_of_abstraction, \n",
    "    # Execute the function\n",
    "    tab1_submit_button.click(fn=engine.tab1_engine, inputs=tab1_inputs, outputs=output)\n",
    "\n",
    "# ====== #\n",
    "# Tab4: FAQ\n",
    "# ====== #\n",
    "with gr.Blocks(theme=gr.themes.Glass()) as engine.tab4_title:\n",
    "    title = gr.HTML(engine.tab4_title)\n",
    "    # Instructions\n",
    "    instructions = gr.Markdown(value=engine.tab4_instructions)\n",
    "\n",
    "# Launching the Gradio interface\n",
    "# demo.launch(share=True, debug=True)\n",
    "\n",
    "\n",
    "# ====== #\n",
    "# Put it together\n",
    "# ====== #\n",
    "\n",
    "# Assemble gradio app\n",
    "demo = gr.TabbedInterface([engine.tab1_page_name, engine.tab4_page_name], [engine.tab1_title, engine.tab4_title], title=engine.app_name)\n",
    "\n",
    "# application = gr.mount_gradio_app(app, demo, path=\"/home\", auth_dependency=engine.get_token)\n",
    "# Mount gradio app into FastAPI\n",
    "application = gr.mount_gradio_app(app, demo, path=\"/home\")"
   ]
  },
  {
   "cell_type": "code",
   "execution_count": null,
   "metadata": {},
   "outputs": [],
   "source": []
  }
 ],
 "metadata": {
  "kernelspec": {
   "display_name": "espReports_env",
   "language": "python",
   "name": "python3"
  },
  "language_info": {
   "codemirror_mode": {
    "name": "ipython",
    "version": 3
   },
   "file_extension": ".py",
   "mimetype": "text/x-python",
   "name": "python",
   "nbconvert_exporter": "python",
   "pygments_lexer": "ipython3",
   "version": "3.12.0"
  }
 },
 "nbformat": 4,
 "nbformat_minor": 2
}
