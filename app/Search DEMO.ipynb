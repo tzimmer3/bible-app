{
 "cells": [
  {
   "attachments": {},
   "cell_type": "markdown",
   "metadata": {},
   "source": [
    "# Semantic Search on a Corpus"
   ]
  },
  {
   "cell_type": "code",
   "execution_count": 1,
   "metadata": {},
   "outputs": [
    {
     "name": "stderr",
     "output_type": "stream",
     "text": [
      "c:\\Users\\t_zim\\miniconda3\\envs\\bible_app\\lib\\site-packages\\tqdm\\auto.py:21: TqdmWarning: IProgress not found. Please update jupyter and ipywidgets. See https://ipywidgets.readthedocs.io/en/stable/user_install.html\n",
      "  from .autonotebook import tqdm as notebook_tqdm\n"
     ]
    }
   ],
   "source": [
    "# Import Packages\n",
    "import numpy as np\n",
    "import pandas as pd\n",
    "\n",
    "from src.SearchEngine import SearchEngine\n",
    "engine = SearchEngine()"
   ]
  },
  {
   "attachments": {},
   "cell_type": "markdown",
   "metadata": {},
   "source": [
    "## Ask Questions"
   ]
  },
  {
   "cell_type": "code",
   "execution_count": 2,
   "metadata": {},
   "outputs": [],
   "source": [
    "response = engine.tab1_engine(question = \"who is my father?\",\n",
    "                              run_cross_encoder = \"No\",\n",
    "                              testament = \"All\",\n",
    "                              k=5,\n",
    "                              relevance=.50)\n"
   ]
  },
  {
   "cell_type": "code",
   "execution_count": 3,
   "metadata": {},
   "outputs": [
    {
     "data": {
      "text/html": [
       "<style type=\"text/css\">\n",
       "#T_cfbc8_row0_col2, #T_cfbc8_row1_col2, #T_cfbc8_row2_col2, #T_cfbc8_row3_col2, #T_cfbc8_row4_col2 {\n",
       "  width: 900px;\n",
       "}\n",
       "</style>\n",
       "<table id=\"T_cfbc8\">\n",
       "  <thead>\n",
       "    <tr>\n",
       "      <th class=\"blank level0\" >&nbsp;</th>\n",
       "      <th id=\"T_cfbc8_level0_col0\" class=\"col_heading level0 col0\" >book</th>\n",
       "      <th id=\"T_cfbc8_level0_col1\" class=\"col_heading level0 col1\" >chapter</th>\n",
       "      <th id=\"T_cfbc8_level0_col2\" class=\"col_heading level0 col2\" >text</th>\n",
       "      <th id=\"T_cfbc8_level0_col3\" class=\"col_heading level0 col3\" >similarity score</th>\n",
       "    </tr>\n",
       "  </thead>\n",
       "  <tbody>\n",
       "    <tr>\n",
       "      <th id=\"T_cfbc8_level0_row0\" class=\"row_heading level0 row0\" >711</th>\n",
       "      <td id=\"T_cfbc8_row0_col0\" class=\"data row0 col0\" >John</td>\n",
       "      <td id=\"T_cfbc8_row0_col1\" class=\"data row0 col1\" >14</td>\n",
       "      <td id=\"T_cfbc8_row0_col2\" class=\"data row0 col2\" >Let not your heart be troubled: ye believe in God, believe also in me. In my Father's house are many mansions: if <i>it were</i> not <i>so</i>, I would have told you. I go to prepare a place for you. And if I go and prepare a place for you, I will come again, and receive you unto myself; that where I am, <i>there</i> ye may be also. And whither I go ye know, and the way ye know. Thomas saith unto him, Lord, we know not whither thou goest; and how can we know the way? Jesus saith unto him, I am the way, the truth, and the life: no man cometh unto the Father, but by me. If ye had known me, ye should have known my Father also: and from henceforth ye know him, and have seen him. Philip saith unto him, Lord, shew us the Father, and it sufficeth us. Jesus saith unto him, Have I been so long time with you, and yet hast thou not known me, Philip? he that hath seen me hath seen the Father; and how sayest thou <i>then</i>, Shew us the Father? Believest thou not that I am in the Father, and the Father in me? the words that I speak unto you I speak not of myself: but the Father that dwelleth in me, he doeth the works. Believe me that I <i>am</i> in the Father, and the Father in me: or else believe me for the very works' sake. Verily, verily, I say unto you, He that believeth on me, the works that I do shall he do also; and greater <i>works</i> than these shall he do; because I go unto my Father. And whatsoever ye shall ask in my name, that will I do, that the Father may be glorified in the Son. If ye shall ask any thing in my name, I will do <i>it</i>. If ye love me, keep my commandments. And I will pray the Father, and he shall give you another Comforter, that he may abide with you for ever; <i>Even</i> the Spirit of truth; whom the world cannot receive, because it seeth him not, neither knoweth him: but ye know him; for he dwelleth with you, and shall be in you. I will not leave you comfortless: I will come to you. Yet a little while, and the world seeth me no more; but ye see me: because I live, ye shall live also. At that day ye shall know that I <i>am</i> in my Father, and ye in me, and I in you. He that hath my commandments, and keepeth them, he it is that loveth me: and he that loveth me shall be loved of my Father, and I will love him, and will manifest myself to him. Judas saith unto him, not Iscariot, Lord, how is it that thou wilt manifest thyself unto us, and not unto the world? Jesus answered and said unto him, If a man love me, he will keep my words: and my Father will love him, and we will come unto him, and make our abode with him. He that loveth me not keepeth not my sayings: and the word which ye hear is not mine, but the Father's which sent me. These things have I spoken unto you, being <i>yet</i> present with you. But the Comforter, <i>which is</i> the Holy Ghost, whom the Father will send in my name, he shall teach you all things, and bring all things to your remembrance, whatsoever I have said unto you. Peace I leave with you, my peace I give unto you: not as the world giveth, give I unto you. Let not your heart be troubled, neither let it be afraid. Ye have heard how I said unto you, I go away, and come <i>again</i> unto you. If ye loved me, ye would rejoice, because I said, I go unto the Father: for my Father is greater than I. And now I have told you before it come to pass, that, when it is come to pass, ye might believe. Hereafter I will not talk much with you: for the prince of this world cometh, and hath nothing in me. But that the world may know that I love the Father; and as the Father gave me commandment, even so I do. Arise, let us go hence.</td>\n",
       "      <td id=\"T_cfbc8_row0_col3\" class=\"data row0 col3\" >0.400252</td>\n",
       "    </tr>\n",
       "    <tr>\n",
       "      <th id=\"T_cfbc8_level0_row1\" class=\"row_heading level0 row1\" >1163</th>\n",
       "      <td id=\"T_cfbc8_row1_col0\" class=\"data row1 col0\" >Song of Solomon</td>\n",
       "      <td id=\"T_cfbc8_row1_col1\" class=\"data row1 col1\" >3</td>\n",
       "      <td id=\"T_cfbc8_row1_col2\" class=\"data row1 col2\" >By night on my bed I sought him whom my soul loveth: I sought him, but I found him not. I will rise now, and go about the city in the streets, and in the broad ways I will seek him whom my soul loveth: I sought him, but I found him not. The watchmen that go about the city found me: <i>to whom I said</i>, Saw ye him whom my soul loveth? <i>It was</i> but a little that I passed from them, but I found him whom my soul loveth: I held him, and would not let him go, until I had brought him into my mother's house, and into the chamber of her that conceived me. I charge you, O ye daughters of Jerusalem, by the roes, and by the hinds of the field, that ye stir not up, nor awake <i>my</i> love, till he please. Who <i>is</i> this that cometh out of the wilderness like pillars of smoke, perfumed with myrrh and frankincense, with all powders of the merchant? Behold his bed, which <i>is</i> Solomon's; threescore valiant men <i>are</i> about it, of the valiant of Israel. They all hold swords, <i>being</i> expert in war: every man <i>hath</i> his sword upon his thigh because of fear in the night. King Solomon made himself a chariot of the wood of Lebanon. He made the pillars thereof <i>of</i> silver, the bottom thereof <i>of</i> gold, the covering of it <i>of</i> purple, the midst thereof being paved <i>with</i> love, for the daughters of Jerusalem. Go forth, O ye daughters of Zion, and behold king Solomon with the crown wherewith his mother crowned him in the day of his espousals, and in the day of the gladness of his heart.</td>\n",
       "      <td id=\"T_cfbc8_row1_col3\" class=\"data row1 col3\" >0.398384</td>\n",
       "    </tr>\n",
       "    <tr>\n",
       "      <th id=\"T_cfbc8_level0_row2\" class=\"row_heading level0 row2\" >238</th>\n",
       "      <td id=\"T_cfbc8_row2_col0\" class=\"data row2 col0\" >Acts</td>\n",
       "      <td id=\"T_cfbc8_row2_col1\" class=\"data row2 col1\" >10</td>\n",
       "      <td id=\"T_cfbc8_row2_col2\" class=\"data row2 col2\" >There was a certain man in Caesarea called Cornelius, a centurion of the band called the Italian <i>band</i>, <i>A</i> devout <i>man</i>, and one that feared God with all his house, which gave much alms to the people, and prayed to God alway. He saw in a vision evidently about the ninth hour of the day an angel of God coming in to him, and saying unto him, Cornelius. And when he looked on him, he was afraid, and said, What is it, Lord? And he said unto him, Thy prayers and thine alms are come up for a memorial before God. And now send men to Joppa, and call for <i>one</i> Simon, whose surname is Peter: He lodgeth with one Simon a tanner, whose house is by the sea side: he shall tell thee what thou oughtest to do. And when the angel which spake unto Cornelius was departed, he called two of his household servants, and a devout soldier of them that waited on him continually; And when he had declared all <i>these</i> things unto them, he sent them to Joppa. On the morrow, as they went on their journey, and drew nigh unto the city, Peter went up upon the housetop to pray about the sixth hour: And he became very hungry, and would have eaten: but while they made ready, he fell into a trance, And saw heaven opened, and a certain vessel descending unto him, as it had been a great sheet knit at the four corners, and let down to the earth: Wherein were all manner of fourfooted beasts of the earth, and wild beasts, and creeping things, and fowls of the air. And there came a voice to him, Rise, Peter; kill, and eat. But Peter said, Not so, Lord; for I have never eaten any thing that is common or unclean. And the voice <i>spake</i> unto him again the second time, What God hath cleansed, <i>that</i> call not thou common. This was done thrice: and the vessel was received up again into heaven. Now while Peter doubted in himself what this vision which he had seen should mean, behold, the men which were sent from Cornelius had made inquiry for Simon's house, and stood before the gate, And called, and asked whether Simon, which was surnamed Peter, were lodged there. While Peter thought on the vision, the Spirit said unto him, Behold, three men seek thee. Arise therefore, and get thee down, and go with them, doubting nothing: for I have sent them. Then Peter went down to the men which were sent unto him from Cornelius; and said, Behold, I am he whom ye seek: what <i>is</i> the cause wherefore ye are come? And they said, Cornelius the centurion, a just man, and one that feareth God, and of good report among all the nation of the Jews, was warned from God by an holy angel to send for thee into his house, and to hear words of thee. Then called he them in, and lodged <i>them</i>. And on the morrow Peter went away with them, and certain brethren from Joppa accompanied him. And the morrow after they entered into Caesarea. And Cornelius waited for them, and had called together his kinsmen and near friends. And as Peter was coming in, Cornelius met him, and fell down at his feet, and worshipped <i>him</i>. But Peter took him up, saying, Stand up; I myself also am a man. And as he talked with him, he went in, and found many that were come together. And he said unto them, Ye know how that it is an unlawful thing for a man that is a Jew to keep company, or come unto one of another nation; but God hath shewed me that I should not call any man common or unclean. Therefore came I <i>unto you</i> without gainsaying, as soon as I was sent for: I ask therefore for what intent ye have sent for me? And Cornelius said, Four days ago I was fasting until this hour; and at the ninth hour I prayed in my house, and, behold, a man stood before me in bright clothing, And said, Cornelius, thy prayer is heard, and thine alms are had in remembrance in the sight of God. Send therefore to Joppa, and call hither Simon, whose surname is Peter; he is lodged in the house of <i>one</i> Simon a tanner by the sea side: who, when he cometh, shall speak unto thee. Immediately therefore I sent to thee; and thou hast well done that thou art come. Now therefore are we all here present before God, to hear all things that are commanded thee of God. Then Peter opened <i>his</i> mouth, and said, Of a truth I perceive that God is no respecter of persons: But in every nation he that feareth him, and worketh righteousness, is accepted with him. The word which <i>God</i> sent unto the children of Israel, preaching peace by Jesus Christ: (he is Lord of all:) That word, <i>I say</i>, ye know, which was published throughout all Judaea, and began from Galilee, after the baptism which John preached; How God anointed Jesus of Nazareth with the Holy Ghost and with power: who went about doing good, and healing all that were oppressed of the devil; for God was with him. And we are witnesses of all things which he did both in the land of the Jews, and in Jerusalem; whom they slew and hanged on a tree: Him God raised up the third day, and shewed him openly; Not to all the people, but unto witnesses chosen before of God, <i>even</i> to us, who did eat and drink with him after he rose from the dead. And he commanded us to preach unto the people, and to testify that it is he which was ordained of God <i>to be</i> the Judge of quick and dead. To him give all the prophets witness, that through his name whosoever believeth in him shall receive remission of sins. While Peter yet spake these words, the Holy Ghost fell on all them which heard the word. And they of the circumcision which believed were astonished, as many as came with Peter, because that on the Gentiles also was poured out the gift of the Holy Ghost. For they heard them speak with tongues, and magnify God. Then answered Peter, Can any man forbid water, that these should not be baptized, which have received the Holy Ghost as well as we? And he commanded them to be baptized in the name of the Lord. Then prayed they him to tarry certain days.</td>\n",
       "      <td id=\"T_cfbc8_row2_col3\" class=\"data row2 col3\" >0.361350</td>\n",
       "    </tr>\n",
       "    <tr>\n",
       "      <th id=\"T_cfbc8_level0_row3\" class=\"row_heading level0 row3\" >96</th>\n",
       "      <td id=\"T_cfbc8_row3_col0\" class=\"data row3 col0\" >1 Samuel</td>\n",
       "      <td id=\"T_cfbc8_row3_col1\" class=\"data row3 col1\" >20</td>\n",
       "      <td id=\"T_cfbc8_row3_col2\" class=\"data row3 col2\" >And David fled from Naioth in Ramah, and came and said before Jonathan, What have I done? what <i>is</i> mine iniquity? and what <i>is</i> my sin before thy father, that he seeketh my life? And he said unto him, God forbid; thou shalt not die: behold, my father will do nothing either great or small, but that he will shew it me: and why should my father hide this thing from me? it <i>is</i> not <i>so</i>. And David sware moreover, and said, Thy father certainly knoweth that I have found grace in thine eyes; and he saith, Let not Jonathan know this, lest he be grieved: but truly <i>as</i> the LORD liveth, and <i>as</i> thy soul liveth, <i>there is</i> but a step between me and death. Then said Jonathan unto David, Whatsoever thy soul desireth, I will even do <i>it</i> for thee. And David said unto Jonathan, Behold, to morrow <i>is</i> the new moon, and I should not fail to sit with the king at meat: but let me go, that I may hide myself in the field unto the third <i>day</i> at even. If thy father at all miss me, then say, David earnestly asked <i>leave</i> of me that he might run to Bethlehem his city: for <i>there is</i> a yearly sacrifice there for all the family. If he say thus, <i>It is</i> well; thy servant shall have peace: but if he be very wroth, <i>then</i> be sure that evil is determined by him. Therefore thou shalt deal kindly with thy servant; for thou hast brought thy servant into a covenant of the LORD with thee: notwithstanding, if there be in me iniquity, slay me thyself; for why shouldest thou bring me to thy father? And Jonathan said, Far be it from thee: for if I knew certainly that evil were determined by my father to come upon thee, then would not I tell it thee? Then said David to Jonathan, Who shall tell me? or what <i>if</i> thy father answer thee roughly? And Jonathan said unto David, Come, and let us go out into the field. And they went out both of them into the field. And Jonathan said unto David, O LORD God of Israel, when I have sounded my father about to morrow any time, <i>or</i> the third <i>day</i>, and, behold, <i>if there be</i> good toward David, and I then send not unto thee, and shew it thee; The LORD do so and much more to Jonathan: but if it please my father <i>to do</i> thee evil, then I will shew it thee, and send thee away, that thou mayest go in peace: and the LORD be with thee, as he hath been with my father. And thou shalt not only while yet I live shew me the kindness of the LORD, that I die not: But <i>also</i> thou shalt not cut off thy kindness from my house for ever: no, not when the LORD hath cut off the enemies of David every one from the face of the earth. So Jonathan made <i>a covenant</i> with the house of David, <i>saying</i>, Let the LORD even require <i>it</i> at the hand of David's enemies. And Jonathan caused David to swear again, because he loved him: for he loved him as he loved his own soul. Then Jonathan said to David, To morrow <i>is</i> the new moon: and thou shalt be missed, because thy seat will be empty. And <i>when</i> thou hast stayed three days, <i>then</i> thou shalt go down quickly, and come to the place where thou didst hide thyself when the business was <i>in hand</i>, and shalt remain by the stone Ezel. And I will shoot three arrows on the side <i>thereof</i>, as though I shot at a mark. And, behold, I will send a lad, <i>saying</i>, Go, find out the arrows. If I expressly say unto the lad, Behold, the arrows <i>are</i> on this side of thee, take them; then come thou: for <i>there is</i> peace to thee, and no hurt; <i>as</i> the LORD liveth. But if I say thus unto the young man, Behold, the arrows <i>are</i> beyond thee; go thy way: for the LORD hath sent thee away. And <i>as touching</i> the matter which thou and I have spoken of, behold, the LORD <i>be</i> between thee and me for ever. So David hid himself in the field: and when the new moon was come, the king sat him down to eat meat. And the king sat upon his seat, as at other times, <i>even</i> upon a seat by the wall: and Jonathan arose, and Abner sat by Saul's side, and David's place was empty. Nevertheless Saul spake not any thing that day: for he thought, Something hath befallen him, he <i>is</i> not clean; surely he <i>is</i> not clean. And it came to pass on the morrow, <i>which was</i> the second <i>day</i> of the month, that David's place was empty: and Saul said unto Jonathan his son, Wherefore cometh not the son of Jesse to meat, neither yesterday, nor to day? And Jonathan answered Saul, David earnestly asked <i>leave</i> of me <i>to go</i> to Bethlehem: And he said, Let me go, I pray thee; for our family hath a sacrifice in the city; and my brother, he hath commanded me <i>to be there</i>: and now, if I have found favour in thine eyes, let me get away, I pray thee, and see my brethren. Therefore he cometh not unto the king's table. Then Saul's anger was kindled against Jonathan, and he said unto him, Thou son of the perverse rebellious <i>woman</i>, do not I know that thou hast chosen the son of Jesse to thine own confusion, and unto the confusion of thy mother's nakedness? For as long as the son of Jesse liveth upon the ground, thou shalt not be established, nor thy kingdom. Wherefore now send and fetch him unto me, for he shall surely die. And Jonathan answered Saul his father, and said unto him, Wherefore shall he be slain? what hath he done? And Saul cast a javelin at him to smite him: whereby Jonathan knew that it was determined of his father to slay David. So Jonathan arose from the table in fierce anger, and did eat no meat the second day of the month: for he was grieved for David, because his father had done him shame. And it came to pass in the morning, that Jonathan went out into the field at the time appointed with David, and a little lad with him. And he said unto his lad, Run, find out now the arrows which I shoot. <i>And</i> as the lad ran, he shot an arrow beyond him. And when the lad was come to the place of the arrow which Jonathan had shot, Jonathan cried after the lad, and said, <i>Is</i> not the arrow beyond thee? And Jonathan cried after the lad, Make speed, haste, stay not. And Jonathan's lad gathered up the arrows, and came to his master. But the lad knew not any thing: only Jonathan and David knew the matter. And Jonathan gave his artillery unto his lad, and said unto him, Go, carry <i>them</i> to the city. <i>And</i> as soon as the lad was gone, David arose out of <i>a place</i> toward the south, and fell on his face to the ground, and bowed himself three times: and they kissed one another, and wept one with another, until David exceeded. And Jonathan said to David, Go in peace, forasmuch as we have sworn both of us in the name of the LORD, saying, The LORD be between me and thee, and between my seed and thy seed for ever. And he arose and departed: and Jonathan went into the city.</td>\n",
       "      <td id=\"T_cfbc8_row3_col3\" class=\"data row3 col3\" >0.354515</td>\n",
       "    </tr>\n",
       "    <tr>\n",
       "      <th id=\"T_cfbc8_level0_row4\" class=\"row_heading level0 row4\" >503</th>\n",
       "      <td id=\"T_cfbc8_row4_col0\" class=\"data row4 col0\" >Hebrews</td>\n",
       "      <td id=\"T_cfbc8_row4_col1\" class=\"data row4 col1\" >1</td>\n",
       "      <td id=\"T_cfbc8_row4_col2\" class=\"data row4 col2\" >God, who at sundry times and in divers manners spake in time past unto the fathers by the prophets, Hath in these last days spoken unto us by <i>his</i> Son, whom he hath appointed heir of all things, by whom also he made the worlds; Who being the brightness of <i>his</i> glory, and the express image of his person, and upholding all things by the word of his power, when he had by himself purged our sins, sat down on the right hand of the Majesty on high; Being made so much better than the angels, as he hath by inheritance obtained a more excellent name than they. For unto which of the angels said he at any time, Thou art my Son, this day have I begotten thee? And again, I will be to him a Father, and he shall be to me a Son? And again, when he bringeth in the firstbegotten into the world, he saith, And let all the angels of God worship him. And of the angels he saith, Who maketh his angels spirits, and his ministers a flame of fire. But unto the Son <i>he saith</i>, Thy throne, O God, <i>is</i> for ever and ever: a sceptre of righteousness <i>is</i> the sceptre of thy kingdom. Thou hast loved righteousness, and hated iniquity; therefore God, <i>even</i> thy God, hath anointed thee with the oil of gladness above thy fellows. And, Thou, Lord, in the beginning hast laid the foundation of the earth; and the heavens are the works of thine hands: They shall perish; but thou remainest; and they all shall wax old as doth a garment; And as a vesture shalt thou fold them up, and they shall be changed: but thou art the same, and thy years shall not fail. But to which of the angels said he at any time, Sit on my right hand, until I make thine enemies thy footstool? Are they not all ministering spirits, sent forth to minister for them who shall be heirs of salvation?</td>\n",
       "      <td id=\"T_cfbc8_row4_col3\" class=\"data row4 col3\" >0.349659</td>\n",
       "    </tr>\n",
       "  </tbody>\n",
       "</table>\n"
      ],
      "text/plain": [
       "<pandas.io.formats.style.Styler at 0x27cff32b880>"
      ]
     },
     "execution_count": 3,
     "metadata": {},
     "output_type": "execute_result"
    }
   ],
   "source": [
    "response.style.set_properties(subset=['text'], **{'width': '900px'})"
   ]
  },
  {
   "cell_type": "code",
   "execution_count": null,
   "metadata": {},
   "outputs": [],
   "source": []
  }
 ],
 "metadata": {
  "kernelspec": {
   "display_name": "bible_app",
   "language": "python",
   "name": "python3"
  },
  "language_info": {
   "codemirror_mode": {
    "name": "ipython",
    "version": 3
   },
   "file_extension": ".py",
   "mimetype": "text/x-python",
   "name": "python",
   "nbconvert_exporter": "python",
   "pygments_lexer": "ipython3",
   "version": "3.9.5"
  },
  "orig_nbformat": 4
 },
 "nbformat": 4,
 "nbformat_minor": 2
}
