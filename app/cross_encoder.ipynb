{
 "cells": [
  {
   "cell_type": "code",
   "execution_count": 1,
   "metadata": {},
   "outputs": [
    {
     "name": "stderr",
     "output_type": "stream",
     "text": [
      "c:\\Users\\t_zim\\miniconda3\\envs\\bible_app\\lib\\site-packages\\tqdm\\auto.py:21: TqdmWarning: IProgress not found. Please update jupyter and ipywidgets. See https://ipywidgets.readthedocs.io/en/stable/user_install.html\n",
      "  from .autonotebook import tqdm as notebook_tqdm\n"
     ]
    }
   ],
   "source": [
    "import pandas as pd\n",
    "\n",
    "from src.SearchEngine import SearchEngine\n",
    "engine = SearchEngine()"
   ]
  },
  {
   "cell_type": "markdown",
   "metadata": {},
   "source": [
    "## Execution"
   ]
  },
  {
   "cell_type": "code",
   "execution_count": 4,
   "metadata": {},
   "outputs": [
    {
     "name": "stdout",
     "output_type": "stream",
     "text": [
      "Cross Encoding...\n"
     ]
    }
   ],
   "source": [
    "response = engine.tab1_engine(question = \"who is my father?\",\n",
    "                                run_cross_encoder = \"Yes\",\n",
    "                                testament = \"All\",\n",
    "                                k = 5,\n",
    "                                relevance = .50)"
   ]
  },
  {
   "cell_type": "code",
   "execution_count": 5,
   "metadata": {},
   "outputs": [
    {
     "data": {
      "text/html": [
       "<div>\n",
       "<style scoped>\n",
       "    .dataframe tbody tr th:only-of-type {\n",
       "        vertical-align: middle;\n",
       "    }\n",
       "\n",
       "    .dataframe tbody tr th {\n",
       "        vertical-align: top;\n",
       "    }\n",
       "\n",
       "    .dataframe thead th {\n",
       "        text-align: right;\n",
       "    }\n",
       "</style>\n",
       "<table border=\"1\" class=\"dataframe\">\n",
       "  <thead>\n",
       "    <tr style=\"text-align: right;\">\n",
       "      <th></th>\n",
       "      <th>book</th>\n",
       "      <th>chapter</th>\n",
       "      <th>text</th>\n",
       "      <th>similarity score</th>\n",
       "    </tr>\n",
       "  </thead>\n",
       "  <tbody>\n",
       "    <tr>\n",
       "      <th>712</th>\n",
       "      <td>John</td>\n",
       "      <td>15</td>\n",
       "      <td>I am the true vine, and my Father is the husba...</td>\n",
       "      <td>0.309137</td>\n",
       "    </tr>\n",
       "    <tr>\n",
       "      <th>711</th>\n",
       "      <td>John</td>\n",
       "      <td>14</td>\n",
       "      <td>Let not your heart be troubled: ye believe in ...</td>\n",
       "      <td>0.400252</td>\n",
       "    </tr>\n",
       "    <tr>\n",
       "      <th>328</th>\n",
       "      <td>Ephesians</td>\n",
       "      <td>1</td>\n",
       "      <td>Paul, an apostle of Jesus Christ by the will o...</td>\n",
       "      <td>0.267195</td>\n",
       "    </tr>\n",
       "    <tr>\n",
       "      <th>96</th>\n",
       "      <td>1 Samuel</td>\n",
       "      <td>20</td>\n",
       "      <td>And David fled from Naioth in Ramah, and came ...</td>\n",
       "      <td>0.354515</td>\n",
       "    </tr>\n",
       "    <tr>\n",
       "      <th>266</th>\n",
       "      <td>Colossians</td>\n",
       "      <td>1</td>\n",
       "      <td>Paul, an apostle of Jesus Christ by the will o...</td>\n",
       "      <td>0.281199</td>\n",
       "    </tr>\n",
       "  </tbody>\n",
       "</table>\n",
       "</div>"
      ],
      "text/plain": [
       "           book  chapter                                               text  \\\n",
       "712        John       15  I am the true vine, and my Father is the husba...   \n",
       "711        John       14  Let not your heart be troubled: ye believe in ...   \n",
       "328   Ephesians        1  Paul, an apostle of Jesus Christ by the will o...   \n",
       "96     1 Samuel       20  And David fled from Naioth in Ramah, and came ...   \n",
       "266  Colossians        1  Paul, an apostle of Jesus Christ by the will o...   \n",
       "\n",
       "     similarity score  \n",
       "712          0.309137  \n",
       "711          0.400252  \n",
       "328          0.267195  \n",
       "96           0.354515  \n",
       "266          0.281199  "
      ]
     },
     "execution_count": 5,
     "metadata": {},
     "output_type": "execute_result"
    }
   ],
   "source": [
    "response"
   ]
  },
  {
   "cell_type": "code",
   "execution_count": 3,
   "metadata": {},
   "outputs": [
    {
     "data": {
      "text/html": [
       "<div>\n",
       "<style scoped>\n",
       "    .dataframe tbody tr th:only-of-type {\n",
       "        vertical-align: middle;\n",
       "    }\n",
       "\n",
       "    .dataframe tbody tr th {\n",
       "        vertical-align: top;\n",
       "    }\n",
       "\n",
       "    .dataframe thead th {\n",
       "        text-align: right;\n",
       "    }\n",
       "</style>\n",
       "<table border=\"1\" class=\"dataframe\">\n",
       "  <thead>\n",
       "    <tr style=\"text-align: right;\">\n",
       "      <th></th>\n",
       "      <th>book</th>\n",
       "      <th>chapter</th>\n",
       "      <th>text</th>\n",
       "      <th>similarity score</th>\n",
       "    </tr>\n",
       "  </thead>\n",
       "  <tbody>\n",
       "    <tr>\n",
       "      <th>711</th>\n",
       "      <td>John</td>\n",
       "      <td>14</td>\n",
       "      <td>Let not your heart be troubled: ye believe in ...</td>\n",
       "      <td>0.400252</td>\n",
       "    </tr>\n",
       "    <tr>\n",
       "      <th>1163</th>\n",
       "      <td>Song of Solomon</td>\n",
       "      <td>3</td>\n",
       "      <td>By night on my bed I sought him whom my soul l...</td>\n",
       "      <td>0.398384</td>\n",
       "    </tr>\n",
       "    <tr>\n",
       "      <th>238</th>\n",
       "      <td>Acts</td>\n",
       "      <td>10</td>\n",
       "      <td>There was a certain man in Caesarea called Cor...</td>\n",
       "      <td>0.361350</td>\n",
       "    </tr>\n",
       "    <tr>\n",
       "      <th>96</th>\n",
       "      <td>1 Samuel</td>\n",
       "      <td>20</td>\n",
       "      <td>And David fled from Naioth in Ramah, and came ...</td>\n",
       "      <td>0.354515</td>\n",
       "    </tr>\n",
       "    <tr>\n",
       "      <th>503</th>\n",
       "      <td>Hebrews</td>\n",
       "      <td>1</td>\n",
       "      <td>God, who at sundry times and in divers manners...</td>\n",
       "      <td>0.349659</td>\n",
       "    </tr>\n",
       "  </tbody>\n",
       "</table>\n",
       "</div>"
      ],
      "text/plain": [
       "                 book  chapter  \\\n",
       "711              John       14   \n",
       "1163  Song of Solomon        3   \n",
       "238              Acts       10   \n",
       "96           1 Samuel       20   \n",
       "503           Hebrews        1   \n",
       "\n",
       "                                                   text  similarity score  \n",
       "711   Let not your heart be troubled: ye believe in ...          0.400252  \n",
       "1163  By night on my bed I sought him whom my soul l...          0.398384  \n",
       "238   There was a certain man in Caesarea called Cor...          0.361350  \n",
       "96    And David fled from Naioth in Ramah, and came ...          0.354515  \n",
       "503   God, who at sundry times and in divers manners...          0.349659  "
      ]
     },
     "execution_count": 3,
     "metadata": {},
     "output_type": "execute_result"
    }
   ],
   "source": [
    "response"
   ]
  },
  {
   "cell_type": "code",
   "execution_count": null,
   "metadata": {},
   "outputs": [],
   "source": []
  }
 ],
 "metadata": {
  "kernelspec": {
   "display_name": "bible_app",
   "language": "python",
   "name": "python3"
  },
  "language_info": {
   "codemirror_mode": {
    "name": "ipython",
    "version": 3
   },
   "file_extension": ".py",
   "mimetype": "text/x-python",
   "name": "python",
   "nbconvert_exporter": "python",
   "pygments_lexer": "ipython3",
   "version": "3.9.5"
  }
 },
 "nbformat": 4,
 "nbformat_minor": 2
}
