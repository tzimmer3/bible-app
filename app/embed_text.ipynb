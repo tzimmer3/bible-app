{
 "cells": [
  {
   "cell_type": "markdown",
   "metadata": {},
   "source": [
    "Will need to build this for any new index to be embedded"
   ]
  },
  {
   "cell_type": "code",
   "execution_count": 1,
   "metadata": {},
   "outputs": [
    {
     "name": "stderr",
     "output_type": "stream",
     "text": [
      "c:\\Users\\t_zim\\miniconda3\\envs\\bible_app\\lib\\site-packages\\tqdm\\auto.py:21: TqdmWarning: IProgress not found. Please update jupyter and ipywidgets. See https://ipywidgets.readthedocs.io/en/stable/user_install.html\n",
      "  from .autonotebook import tqdm as notebook_tqdm\n"
     ]
    }
   ],
   "source": [
    "import pandas as pd\n",
    "\n",
    "from src.SearchEngine import SearchEngine\n",
    "\n",
    "search_engine = SearchEngine()"
   ]
  },
  {
   "cell_type": "code",
   "execution_count": null,
   "metadata": {},
   "outputs": [],
   "source": [
    "# Variables\n",
    "input_filename = 'ESV_extracted_text.csv'\n",
    "input_filepath = \"C:\\\\Users\\\\t_zim\\\\code\\\\bible-app\\\\Process ESV\\\\Out\\\\\"\n",
    "\n",
    "output_filename = \"embedded_esv_john.json\"\n",
    "output_filepath = \"C:\\\\Users\\\\t_zim\\\\Desktop\\\\Projects\\\\Bible_Project\\\\Intermediates\\\\\""
   ]
  },
  {
   "cell_type": "code",
   "execution_count": 5,
   "metadata": {},
   "outputs": [],
   "source": [
    "# Data\n",
    "data = pd.read_csv(str(input_filepath)+str(input_filename))"
   ]
  },
  {
   "cell_type": "code",
   "execution_count": 7,
   "metadata": {},
   "outputs": [
    {
     "data": {
      "text/html": [
       "<div>\n",
       "<style scoped>\n",
       "    .dataframe tbody tr th:only-of-type {\n",
       "        vertical-align: middle;\n",
       "    }\n",
       "\n",
       "    .dataframe tbody tr th {\n",
       "        vertical-align: top;\n",
       "    }\n",
       "\n",
       "    .dataframe thead th {\n",
       "        text-align: right;\n",
       "    }\n",
       "</style>\n",
       "<table border=\"1\" class=\"dataframe\">\n",
       "  <thead>\n",
       "    <tr style=\"text-align: right;\">\n",
       "      <th></th>\n",
       "      <th>docName</th>\n",
       "      <th>pageContent</th>\n",
       "      <th>pageNumber</th>\n",
       "    </tr>\n",
       "  </thead>\n",
       "  <tbody>\n",
       "    <tr>\n",
       "      <th>0</th>\n",
       "      <td>ESV Bible.pdf</td>\n",
       "      <td>The Word Became Flesh\\n1:1 In the beginning wa...</td>\n",
       "      <td>4998</td>\n",
       "    </tr>\n",
       "    <tr>\n",
       "      <th>1</th>\n",
       "      <td>ESV Bible.pdf</td>\n",
       "      <td>right to become children of God, 13who were bo...</td>\n",
       "      <td>4999</td>\n",
       "    </tr>\n",
       "    <tr>\n",
       "      <th>2</th>\n",
       "      <td>ESV Bible.pdf</td>\n",
       "      <td>The Testimony of John the Baptist\\n19And this ...</td>\n",
       "      <td>5000</td>\n",
       "    </tr>\n",
       "    <tr>\n",
       "      <th>3</th>\n",
       "      <td>ESV Bible.pdf</td>\n",
       "      <td>baptizing.</td>\n",
       "      <td>5001</td>\n",
       "    </tr>\n",
       "    <tr>\n",
       "      <th>4</th>\n",
       "      <td>ESV Bible.pdf</td>\n",
       "      <td>Behold, the Lamb of God\\n29The next day he saw...</td>\n",
       "      <td>5002</td>\n",
       "    </tr>\n",
       "  </tbody>\n",
       "</table>\n",
       "</div>"
      ],
      "text/plain": [
       "         docName                                        pageContent  \\\n",
       "0  ESV Bible.pdf  The Word Became Flesh\\n1:1 In the beginning wa...   \n",
       "1  ESV Bible.pdf  right to become children of God, 13who were bo...   \n",
       "2  ESV Bible.pdf  The Testimony of John the Baptist\\n19And this ...   \n",
       "3  ESV Bible.pdf                                         baptizing.   \n",
       "4  ESV Bible.pdf  Behold, the Lamb of God\\n29The next day he saw...   \n",
       "\n",
       "   pageNumber  \n",
       "0        4998  \n",
       "1        4999  \n",
       "2        5000  \n",
       "3        5001  \n",
       "4        5002  "
      ]
     },
     "execution_count": 7,
     "metadata": {},
     "output_type": "execute_result"
    }
   ],
   "source": [
    "data.head()"
   ]
  },
  {
   "cell_type": "code",
   "execution_count": 12,
   "metadata": {},
   "outputs": [],
   "source": [
    "# Fill null values in 'pageContent'\n",
    "data['pageContent'].fillna(\"\", inplace=True)"
   ]
  },
  {
   "cell_type": "code",
   "execution_count": 13,
   "metadata": {},
   "outputs": [],
   "source": [
    "# Generate embeddings\n",
    "data['embeddings'] = data['pageContent'].apply(search_engine.get_embeddings)"
   ]
  },
  {
   "cell_type": "code",
   "execution_count": 16,
   "metadata": {},
   "outputs": [],
   "source": [
    "data.to_json(str(output_filepath)+str(output_filename), orient='records')"
   ]
  },
  {
   "cell_type": "code",
   "execution_count": null,
   "metadata": {},
   "outputs": [],
   "source": []
  }
 ],
 "metadata": {
  "kernelspec": {
   "display_name": "bible_app",
   "language": "python",
   "name": "python3"
  },
  "language_info": {
   "codemirror_mode": {
    "name": "ipython",
    "version": 3
   },
   "file_extension": ".py",
   "mimetype": "text/x-python",
   "name": "python",
   "nbconvert_exporter": "python",
   "pygments_lexer": "ipython3",
   "version": "3.9.5"
  }
 },
 "nbformat": 4,
 "nbformat_minor": 2
}
