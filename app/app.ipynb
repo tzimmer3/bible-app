{
 "cells": [
  {
   "cell_type": "code",
   "execution_count": 1,
   "metadata": {},
   "outputs": [
    {
     "name": "stderr",
     "output_type": "stream",
     "text": [
      "c:\\Users\\t_zim\\miniconda3\\envs\\bible_app\\lib\\site-packages\\tqdm\\auto.py:21: TqdmWarning: IProgress not found. Please update jupyter and ipywidgets. See https://ipywidgets.readthedocs.io/en/stable/user_install.html\n",
      "  from .autonotebook import tqdm as notebook_tqdm\n"
     ]
    }
   ],
   "source": [
    "import gradio as gr\n",
    "import tiktoken\n",
    "from joblib import load\n",
    "import numpy as np\n",
    "\n",
    "import pandas as pd"
   ]
  },
  {
   "cell_type": "code",
   "execution_count": 2,
   "metadata": {},
   "outputs": [],
   "source": [
    "# ================== #\n",
    "# Tokenize Text\n",
    "# ================== #\n",
    "\n",
    "# TODO: change tiktoken out to real tokenizer... or use tiktoken\n",
    "\n",
    "def get_tokens(text_2_encode: str, tokenizer=None):\n",
    "    \"\"\"\n",
    "    Tokenize text in a string.\n",
    "\n",
    "    Initialize a tokenizer if tokenizer == None.\n",
    "    \"\"\"\n",
    "\n",
    "    if tokenizer is None:\n",
    "        tokenizer = tiktoken.encoding_for_model(\"text-davinci-003\")\n",
    "    return tokenizer.encode(text=text_2_encode)\n",
    "\n",
    "\n",
    "def get_num_tokens(text_2_encode: str, **kwargs):\n",
    "    \"\"\"\n",
    "    Count the number of tokens in a string.\n",
    "    \"\"\"\n",
    "    return len(get_tokens(text_2_encode=text_2_encode, **kwargs))\n",
    "\n",
    "\n",
    "# ================== #\n",
    "#  Get Embeddings\n",
    "# ================== #\n",
    "\n",
    "def get_embeddings(text=None, model=None):\n",
    "    \"\"\"\n",
    "    Generate embeddings on a string of text.\n",
    "    \"\"\"\n",
    "    if model==None:\n",
    "        model = load('./model/SentBERTmodel.pkl')\n",
    "\n",
    "    return model.encode(text)\n",
    "\n",
    "\n",
    "# ================== #\n",
    "#  Calculate Vector Similarity\n",
    "# ================== #\n",
    "\n",
    "def vector_similarity(x: \"list[float]\", y: \"list[float]\") -> float:\n",
    "    \"\"\"\n",
    "    Returns the similarity between two vectors.\n",
    "\n",
    "    Because embeddings are normalized to length 1, the cosine similarity is the same as the dot product.\n",
    "    \"\"\"\n",
    "    return np.dot(np.array(x), np.array(y))\n",
    "\n",
    "\n",
    "# ================== #\n",
    "#  Order Chunks by Similarity\n",
    "# ================== #\n",
    "\n",
    "def measure_embedding_similarity(\n",
    "    query: str,\n",
    "    embeddings\n",
    "):\n",
    "    \"\"\"\n",
    "    Find the query embedding for the supplied query, and compare it against all of the pre-calculated document embeddings\n",
    "    to find the most relevant sections.\n",
    "\n",
    "    Return the list of document sections, sorted by relevance in descending order.\n",
    "    \"\"\"\n",
    "    query_embedding = get_embeddings(query)\n",
    "\n",
    "    return [vector_similarity(query_embedding, embedding) for embedding in embeddings]\n",
    "\n",
    "\n",
    "# ================== #\n",
    "#  Get Similar Texts\n",
    "# ================== #\n",
    "\n",
    "def get_similar_texts(df, k):\n",
    "    \"\"\"\n",
    "    Slice a dataframe on the top k results.  Sort the sliced dataframe descending on similarity score.\n",
    "\n",
    "    If there are repeated results in top 5, keep them all.\n",
    "    \"\"\"\n",
    "    response = df.nlargest(k, columns=['similarity score'],keep='all')\n",
    "    response = response.sort_values(by='similarity score', ascending=False)\n",
    "    return response"
   ]
  },
  {
   "cell_type": "code",
   "execution_count": 3,
   "metadata": {},
   "outputs": [],
   "source": [
    "# ================== #\n",
    "#  Run (score.py)\n",
    "# ================== #\n",
    "\n",
    "def run(question: str) -> dict[str,str]:\n",
    "\n",
    "    # Import Data\n",
    "    filepath = \"C:\\\\Users\\\\t_zim\\\\Desktop\\\\Data\\\\Bible\\\\\"\n",
    "    filename = \"KJV_chapter_search.json\"\n",
    "\n",
    "    df = pd.read_json(str(filepath)+str(filename))\n",
    "\n",
    "#%%%%%%%%%%%#\n",
    "    # Set up Vars\n",
    "    embeddings = df['embeddings']\n",
    "    k=3\n",
    "\n",
    "    # Retrieve Top K Most Similar Results\n",
    "    df['similarity score'] = measure_embedding_similarity(question, embeddings)\n",
    "\n",
    "    # Count number of tokens in each article\n",
    "    df['token count'] = df['text'].apply(get_num_tokens)\n",
    "    \n",
    "    # Return Chunks With Highest Similarity (Text)\n",
    "    response = get_similar_texts(df, k)\n",
    "\n",
    "    # Remove embeddings column\n",
    "    keep_columns = ['book', \"chapter\", 'text', 'token count', 'similarity score']\n",
    "    response = response[keep_columns]\n",
    "    \n",
    "    return response"
   ]
  },
  {
   "cell_type": "code",
   "execution_count": 4,
   "metadata": {},
   "outputs": [
    {
     "name": "stdout",
     "output_type": "stream",
     "text": [
      "Running on local URL:  http://127.0.0.1:7860\n",
      "Running on public URL: https://b68adb0b2b490e03b4.gradio.live\n",
      "\n",
      "This share link expires in 72 hours. For free permanent hosting and GPU upgrades, run `gradio deploy` from Terminal to deploy to Spaces (https://huggingface.co/spaces)\n"
     ]
    },
    {
     "data": {
      "text/html": [
       "<div><iframe src=\"https://b68adb0b2b490e03b4.gradio.live\" width=\"100%\" height=\"500\" allow=\"autoplay; camera; microphone; clipboard-read; clipboard-write;\" frameborder=\"0\" allowfullscreen></iframe></div>"
      ],
      "text/plain": [
       "<IPython.core.display.HTML object>"
      ]
     },
     "metadata": {},
     "output_type": "display_data"
    },
    {
     "name": "stdout",
     "output_type": "stream",
     "text": [
      "Keyboard interruption in main thread... closing server.\n",
      "Killing tunnel 127.0.0.1:7860 <> https://b68adb0b2b490e03b4.gradio.live\n"
     ]
    },
    {
     "data": {
      "text/plain": []
     },
     "execution_count": 4,
     "metadata": {},
     "output_type": "execute_result"
    }
   ],
   "source": [
    "# Creating a Gradio interface for the chatbot\n",
    "with gr.Blocks() as demo:\n",
    "    title = gr.HTML(\"<h1>Bible Reference Assistant</h1>\")\n",
    "    input = gr.Textbox(label=\"What would you like to know?\")  # Textbox for user input\n",
    "    output = gr.Dataframe(label=\"Here ya go, Champ:\")  # Dataframe for chatbot response\n",
    "    btn = gr.Button(\"Gimme the answer\")  # Button to trigger the agent call\n",
    "    btn.click(fn=run, inputs=input, outputs=output)\n",
    "\n",
    "# Launching the Gradio interface\n",
    "demo.launch(share=True, debug=True)"
   ]
  },
  {
   "cell_type": "code",
   "execution_count": null,
   "metadata": {},
   "outputs": [],
   "source": []
  }
 ],
 "metadata": {
  "kernelspec": {
   "display_name": "nlp_testing",
   "language": "python",
   "name": "python3"
  },
  "language_info": {
   "codemirror_mode": {
    "name": "ipython",
    "version": 3
   },
   "file_extension": ".py",
   "mimetype": "text/x-python",
   "name": "python",
   "nbconvert_exporter": "python",
   "pygments_lexer": "ipython3",
   "version": "3.9.5"
  }
 },
 "nbformat": 4,
 "nbformat_minor": 2
}
