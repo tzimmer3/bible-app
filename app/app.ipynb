{
 "cells": [
  {
   "cell_type": "code",
   "execution_count": null,
   "metadata": {},
   "outputs": [],
   "source": [
    "import numpy as np\n",
    "import pandas as pd\n",
    "import gradio as gr\n",
    "\n",
    "from src.SearchEngine import SearchEngine\n",
    "engine = SearchEngine()"
   ]
  },
  {
   "cell_type": "code",
   "execution_count": null,
   "metadata": {},
   "outputs": [],
   "source": [
    "# Creating a Gradio interface for the chatbot\n",
    "with gr.Blocks() as demo:\n",
    "    title = gr.HTML(\"<h1>Bible Reference Assistant</h1>\")\n",
    "    input = gr.Textbox(label=\"What would you like to know?\")  # Textbox for user input\n",
    "    btn = gr.Button(\"Gimme the answer\")  # Button to trigger the agent call\n",
    "    output = gr.Dataframe(label=\"Here ya go, Champ:\")  # Dataframe for chatbot response\n",
    "    btn.click(fn=engine.tab1_engine, inputs=input, outputs=output)\n",
    "\n",
    "# Launching the Gradio interface\n",
    "demo.launch(share=True, debug=True)"
   ]
  },
  {
   "cell_type": "code",
   "execution_count": null,
   "metadata": {},
   "outputs": [],
   "source": []
  }
 ],
 "metadata": {
  "kernelspec": {
   "display_name": "bible_app",
   "language": "python",
   "name": "python3"
  },
  "language_info": {
   "codemirror_mode": {
    "name": "ipython",
    "version": 3
   },
   "file_extension": ".py",
   "mimetype": "text/x-python",
   "name": "python",
   "nbconvert_exporter": "python",
   "pygments_lexer": "ipython3",
   "version": "3.9.5"
  }
 },
 "nbformat": 4,
 "nbformat_minor": 2
}
