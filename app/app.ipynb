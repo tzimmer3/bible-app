{
 "cells": [
  {
   "cell_type": "code",
   "execution_count": 1,
   "metadata": {},
   "outputs": [],
   "source": [
    "import gradio as gr\n",
    "\n",
    "from src.engine import GradioEngine\n",
    "import src.fe_variables as app_metadata"
   ]
  },
  {
   "cell_type": "markdown",
   "metadata": {},
   "source": [
    "# Gradio app configuration\n",
    "\n",
    "## Tabbed interface with tabs:\n",
    "    # -Select Logbook: Takes user input on .pdf file to parse, creates Canvas, and creates all Canvas pages.\n",
    "    # -Ask Question: Takes user question as input, updates and executes the formula on the page with new question.\n",
    "    # -Full Logbook Data: Shows all of the data extracted from the logbook\n",
    "    # -FAQ: Answers Frequently Asked Questions"
   ]
  },
  {
   "cell_type": "code",
   "execution_count": 2,
   "metadata": {},
   "outputs": [
    {
     "name": "stdout",
     "output_type": "stream",
     "text": [
      "Environments available in config: ['AriesProd1', 'AriesTest']\n",
      "Running on local URL:  http://127.0.0.1:7860\n",
      "\n",
      "To create a public link, set `share=True` in `launch()`.\n"
     ]
    },
    {
     "data": {
      "text/html": [
       "<div><iframe src=\"http://127.0.0.1:7860/\" width=\"100%\" height=\"500\" allow=\"autoplay; camera; microphone; clipboard-read; clipboard-write;\" frameborder=\"0\" allowfullscreen></iframe></div>"
      ],
      "text/plain": [
       "<IPython.core.display.HTML object>"
      ]
     },
     "metadata": {},
     "output_type": "display_data"
    },
    {
     "name": "stdout",
     "output_type": "stream",
     "text": [
      "['Xerox Scan_02152024100620.pdf', 'Xerox Scan_02152024140510.pdf']\n",
      "{'id': '60176d2d-c27d-40f6-a87d-f61a95704edb', 'version': '6a5bdb08-d568-4bdf-9a31-a8e14e48caf4', 'applicationMetadata': None, 'settings': {'supportedDataSources': {'AzureBlob': [{'accountName': 'rcdatat101teststorage', 'id': 'rcdatat101teststorage', 'displayName': 'Research Canvas Data Storage', 'type': 'AzureBlob'}], 'AzureDataLake_Gen2': [{'accountName': 'chevrondatalake', 'id': 'Prod-2', 'displayName': 'Produced', 'type': 'AzureDataLake_Gen2'}, {'accountName': 'chevrondatalakedev', 'id': 'chevrondatalakedev', 'displayName': 'Development', 'type': 'AzureDataLake_Gen2'}], 'DedicatedSqlPool': [{'accountName': 'tcp:rcdatasynapseprod.sql.azuresynapse.net,1433', 'id': 'tcp:rcdatasynapseprod.sql.azuresynapse.net,1433', 'displayName': 'Synapse SQL pool', 'type': 'DedicatedSqlPool'}], 'AzureDataLake': [], 'AnalysisService': []}, 'serviceVersion': 'V2', 'flightSettings': {'uiJson': '{\"lookup\":true,\"copyPaste\":true,\"cluster\":true}', 'backendJson': '{\"ontology\":\"Ads\",\"checkForGarbageCollectionInterval\":3600000,\"checkForGarbageCollectionCountMax\":48,\"allowedNumberOfActiveCanvases\":0,\"hiddenRexlFuncs\":[\"LookupFirst\",\"LookupRecs\",\"LookupRecsW\",\"MakePairs\",\"Max\",\"Min\",\"SumBig\"],\"hiddenRexlNamespaces\":[\"Tensor\"],\"suppressPII\":true,\"autoParseGuid\":true,\"autoParseDateTime\":true,\"canvasHubStreamItemLimit\":10000,\"asyncPollingFrequency\":\"00:00:01\",\"asyncPollingTimeout\":\"00:10:00\",\"showHiddenModels\":false,\"detachedTimeout\":\"00:10:00\",\"getStreamDataTimeout\":\"00:00:30\",\"gridNodeSizeLimit\":1048576}', 'ui': {'lookup': True, 'copyPaste': True, 'cluster': True}, 'backend': {'ontology': 'Ads', 'checkForGarbageCollectionInterval': 3600000, 'checkForGarbageCollectionCountMax': 48, 'allowedNumberOfActiveCanvases': 0, 'hiddenRexlFuncs': ['LookupFirst', 'LookupRecs', 'LookupRecsW', 'MakePairs', 'Max', 'Min', 'SumBig'], 'hiddenRexlNamespaces': ['Tensor'], 'suppressPII': True, 'autoParseGuid': True, 'autoParseDateTime': True, 'canvasHubStreamItemLimit': 10000, 'asyncPollingFrequency': '00:00:01', 'asyncPollingTimeout': '00:10:00', 'showHiddenModels': False, 'detachedTimeout': '00:10:00', 'getStreamDataTimeout': '00:00:30', 'gridNodeSizeLimit': 1048576}}}, 'location': 'https://research.chevron.com/api/2.0/runtime/60176d2d-c27d-40f6-a87d-f61a95704edb', 'dataStreamingConnectionUrl': None, 'nodes': None, 'namespaces': None, 'undoCount': 0, 'redoCount': 0, 'hasClippedData': False, 'isReadOnly': False}\n",
      "Fetching data from node id:  5fadd1cc-9453-44fa-9a6c-3fe6e8a3befa\n",
      "Fetching data from node id:  0f57d870-8e3a-42ff-95ac-9e829c647fac\n",
      "Fetching data from node id:  5fadd1cc-9453-44fa-9a6c-3fe6e8a3befa\n"
     ]
    }
   ],
   "source": [
    "# Create GradioEngine Object\n",
    "session = GradioEngine()\n",
    "# Pull the most current list of filenames from the blob storage\n",
    "session.list_blob()\n",
    "\n",
    "\n",
    "# ====== #\n",
    "# Tab1: SelectLogbook\n",
    "# ====== #\n",
    "with gr.Blocks(title=app_metadata.TAB1_PAGE_NAME, theme=gr.themes.Glass()) as SelectLogbook:\n",
    "    # Instructions\n",
    "    instructions = gr.Markdown(value=app_metadata.TAB1_INSTRUCTIONS)\n",
    "    # Input: Filename\n",
    "    filename = gr.Textbox(label=\"Filename: \", placeholder=\"Ex. Xerox Scan 12345.pdf\")\n",
    "    # Output: Confirmation message to user\n",
    "    confirmation_msg = gr.Textbox(label=\"Confirmation Message: \", placeholder=\"\")\n",
    "    # Buttons\n",
    "    tab1_btn = gr.Button(\"Run\")\n",
    "    # clear = gr.ClearButton([filename, confirmation_msg])\n",
    "    examples = gr.Examples(examples=session.list_of_filenames_in_blob, inputs=[filename])\n",
    "    # examples_btn = gr.Button(\"Load Examples\")\n",
    "\n",
    "    # Execute\n",
    "    tab1_btn.click(session.tab1_engine, filename, confirmation_msg)\n",
    "\n",
    "\n",
    "# ====== #\n",
    "# Tab2: AskQuestion\n",
    "# ====== #\n",
    "TAB2_INSTRUCTIONS = \"<h3>Instructions</h3>\"\\\n",
    "                    f\"<p>Ask a question about information in selected logbook </p> \"#:<b>{session.full_filename}</b> </p>\"\n",
    "\n",
    "with gr.Blocks(title=app_metadata.TAB2_PAGE_NAME, theme=gr.themes.Glass()) as AskQuestion:\n",
    "    # Instructions\n",
    "    instructions = gr.Markdown(value=TAB2_INSTRUCTIONS)\n",
    "    # Input\n",
    "    tab2_question = gr.Textbox(label=\"Question:\", placeholder=\"Ex. List the N2 Intervals.\")\n",
    "    # Buttons\n",
    "    tab2_run_btn = gr.Button(\"Run\")\n",
    "    # Output\n",
    "    tab2_response = gr.DataFrame(label=\"Answer:\", interactive=True)\n",
    "    # More Buttons & Export Data\n",
    "    tab2_export_btn = gr.Button(\"Download Table as csv\")\n",
    "    tab2_csv = gr.File(interactive=False, visible=False)\n",
    "    tab2_clear = gr.ClearButton([tab2_question, tab2_response, tab2_csv])\n",
    "\n",
    "    # Execute\n",
    "    tab2_run_btn.click(session.tab2_engine, tab2_question, tab2_response)\n",
    "    tab2_export_btn.click(session.export_csv, tab2_response, tab2_csv)\n",
    "\n",
    "\n",
    "# ====== #\n",
    "# Tab3: Full Logbook Data\n",
    "# ====== #\n",
    "TAB3_INSTRUCTIONS = \"<h3>Instructions</h3>\"\\\n",
    "                     \"<p>Click the run button to return the full table of data extracted from the logbook.</p>\" \\\n",
    "                    #  f\"<p>Selected Logbook: <b>{session.full_filename}</b></p>\"\n",
    "\n",
    "with gr.Blocks(title=app_metadata.TAB3_PAGE_NAME, theme=gr.themes.Glass()) as FullLogbook:\n",
    "    # Instructions\n",
    "    instructions = gr.Markdown(value=TAB3_INSTRUCTIONS)\n",
    "    # Buttons\n",
    "    tab3_btn = gr.Button(\"Run\")\n",
    "    # Output\n",
    "    tab3_response = gr.DataFrame(label=\"Answer:\", interactive=True)\n",
    "    # More Buttons & Export Data\n",
    "    tab3_export_btn = gr.Button(\"Download Table as csv\")\n",
    "    tab3_csv = gr.File(interactive=False, visible=False)\n",
    "    tab3_clear = gr.ClearButton([tab3_btn, tab3_response, tab3_csv])\n",
    "\n",
    "    # Execute\n",
    "    tab3_btn.click(session.tab3_engine, tab3_btn, tab3_response)\n",
    "    tab3_export_btn.click(session.export_csv, tab3_response, tab3_csv)\n",
    "\n",
    "# ====== #\n",
    "# Tab4: FAQ\n",
    "# ====== #\n",
    "with gr.Blocks(title=app_metadata.TAB4_PAGE_NAME, theme=gr.themes.Glass()) as FAQ:\n",
    "    # Instructions\n",
    "    instructions = gr.Markdown(value=app_metadata.TAB4_INSTRUCTIONS)\n",
    "\n",
    "\n",
    "# ====== #\n",
    "# Put it together\n",
    "# ====== #\n",
    "demo = gr.TabbedInterface([SelectLogbook, AskQuestion, FullLogbook, FAQ], [app_metadata.TAB1_PAGE_NAME, app_metadata.TAB2_PAGE_NAME, app_metadata.TAB3_PAGE_NAME, app_metadata.TAB4_PAGE_NAME], title=app_metadata.APP_NAME)\n",
    "\n",
    "if __name__ == \"__main__\":\n",
    "    demo.launch()"
   ]
  },
  {
   "cell_type": "markdown",
   "metadata": {},
   "source": [
    "# Testing"
   ]
  },
  {
   "cell_type": "code",
   "execution_count": null,
   "metadata": {},
   "outputs": [],
   "source": []
  },
  {
   "cell_type": "code",
   "execution_count": null,
   "metadata": {},
   "outputs": [],
   "source": [
    "# Create session object\n",
    "session = GradioEngine()\n",
    "\n",
    "# Testing tab1\n",
    "session.tab1_engine(filename=\"Xerox Scan_02152024100620.pdf\")\n",
    "\n",
    "# Testing tab2 (have to run tab 1 first)\n",
    "tab2_data = session.tab2_engine(user_question=\"List the N2 entries\")\n",
    "print(tab2_data)\n",
    "\n",
    "# Testing tab3 (have to run tab 1 first)\n",
    "tab3_data = session.tab3_engine(input=\"gimme\")\n",
    "print(tab3_data)"
   ]
  },
  {
   "cell_type": "code",
   "execution_count": null,
   "metadata": {},
   "outputs": [],
   "source": []
  }
 ],
 "metadata": {
  "kernelspec": {
   "display_name": "nlp_testing",
   "language": "python",
   "name": "python3"
  },
  "language_info": {
   "codemirror_mode": {
    "name": "ipython",
    "version": 3
   },
   "file_extension": ".py",
   "mimetype": "text/x-python",
   "name": "python",
   "nbconvert_exporter": "python",
   "pygments_lexer": "ipython3",
   "version": "3.9.19"
  }
 },
 "nbformat": 4,
 "nbformat_minor": 2
}
