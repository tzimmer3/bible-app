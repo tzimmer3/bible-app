{
 "cells": [
  {
   "cell_type": "code",
   "execution_count": null,
   "metadata": {},
   "outputs": [],
   "source": [
    "import gradio as gr\n",
    "\n",
    "from src.engine import GradioEngine\n",
    "import src.fe_variables as app_metadata\n",
    "\n",
    "# Create GradioEngine Object\n",
    "session = GradioEngine()"
   ]
  },
  {
   "cell_type": "markdown",
   "metadata": {},
   "source": [
    "# Gradio app configuration"
   ]
  },
  {
   "cell_type": "markdown",
   "metadata": {},
   "source": [
    "Add in some extra fields\n",
    "- Testament\n",
    "- Cross encoder or regular search\n",
    "- Number of results\n",
    "- Examples"
   ]
  },
  {
   "cell_type": "code",
   "execution_count": null,
   "metadata": {},
   "outputs": [],
   "source": [
    "\n",
    "# ====== #\n",
    "# Tab1: Verse Similarity\n",
    "# ====== #\n",
    "\n",
    "with gr.Blocks(title=app_metadata.TAB1_PAGE_NAME, theme=gr.themes.Glass()) as AskVerse:\n",
    "    # Instructions\n",
    "    instructions = gr.Markdown(value=app_metadata.TAB1_INSTRUCTIONS)\n",
    "    # Input\n",
    "    tab1_question = gr.Textbox(label=\"Question:\", placeholder=\"Ex. Who is God?\")\n",
    "    # Buttons\n",
    "    tab1_run_btn = gr.Button(\"Run\")\n",
    "    # Output\n",
    "    tab1_response = gr.DataFrame(label=\"Answer:\", interactive=False)\n",
    "    # More Buttons & Export Data\n",
    "    tab1_export_btn = gr.Button(\"Download Results as csv\")\n",
    "    tab1_csv = gr.File(interactive=False, visible=False)\n",
    "    tab1_clear = gr.ClearButton([tab1_question, tab1_response, tab1_csv])\n",
    "\n",
    "    # Execute\n",
    "    tab1_run_btn.click(session.tab1_engine, tab1_question, tab1_response)\n",
    "    tab1_export_btn.click(session.export_csv, tab1_response, tab1_csv)\n",
    "\n",
    "\n",
    "# ====== #\n",
    "# Tab: FAQ\n",
    "# ====== #\n",
    "with gr.Blocks(title=app_metadata.TAB4_PAGE_NAME, theme=gr.themes.Glass()) as FAQ:\n",
    "    # Instructions\n",
    "    instructions = gr.Markdown(value=app_metadata.TAB4_INSTRUCTIONS)\n",
    "\n",
    "\n",
    "# ====== #\n",
    "# Put it together\n",
    "# ====== #\n",
    "demo = gr.TabbedInterface([AskVerse, FAQ], [app_metadata.TAB1_PAGE_NAME, app_metadata.TAB4_PAGE_NAME], title=app_metadata.APP_NAME)\n",
    "\n",
    "if __name__ == \"__main__\":\n",
    "    demo.launch()"
   ]
  },
  {
   "cell_type": "markdown",
   "metadata": {},
   "source": [
    "# Testing"
   ]
  },
  {
   "cell_type": "code",
   "execution_count": 1,
   "metadata": {},
   "outputs": [],
   "source": [
    "from src.engine import GradioEngine\n",
    "# Create GradioEngine Object\n",
    "session = GradioEngine()"
   ]
  },
  {
   "cell_type": "code",
   "execution_count": 5,
   "metadata": {},
   "outputs": [
    {
     "name": "stdout",
     "output_type": "stream",
     "text": [
      "0      [0.02933773584663868, 0.09763185679912567, 0.0...\n",
      "1      [-0.030829861760139465, 0.06714971363544464, 0...\n",
      "2      [-0.042698148638010025, 0.11107104271650314, -...\n",
      "3      [0.008858589455485344, 0.11572469025850296, -0...\n",
      "4      [0.02279425598680973, 0.08372653275728226, 0.0...\n",
      "                             ...                        \n",
      "874    [-0.0199922826141119, 0.05543883144855499, -0....\n",
      "875    [-0.046769507229328156, 0.04644876718521118, 0...\n",
      "876    [-0.0060417004860937595, 0.027661064639687538,...\n",
      "877    [-0.04907679185271263, 0.06318483501672745, 0....\n",
      "878    [-0.013146620243787766, 0.05486626550555229, 0...\n",
      "Name: embeddings, Length: 879, dtype: object\n"
     ]
    }
   ],
   "source": [
    "print(session.verse_data['embeddings'])"
   ]
  },
  {
   "cell_type": "code",
   "execution_count": 3,
   "metadata": {},
   "outputs": [
    {
     "ename": "UFuncTypeError",
     "evalue": "ufunc 'multiply' did not contain a loop with signature matching types (dtype('<U32'), dtype('<U8439')) -> None",
     "output_type": "error",
     "traceback": [
      "\u001b[1;31m---------------------------------------------------------------------------\u001b[0m",
      "\u001b[1;31mUFuncTypeError\u001b[0m                            Traceback (most recent call last)",
      "Cell \u001b[1;32mIn[3], line 2\u001b[0m\n\u001b[0;32m      1\u001b[0m \u001b[38;5;66;03m# Testing tab1\u001b[39;00m\n\u001b[1;32m----> 2\u001b[0m tab2_data \u001b[38;5;241m=\u001b[39m \u001b[43msession\u001b[49m\u001b[38;5;241;43m.\u001b[39;49m\u001b[43mtab1_engine\u001b[49m\u001b[43m(\u001b[49m\u001b[43mquestion\u001b[49m\u001b[38;5;241;43m=\u001b[39;49m\u001b[38;5;124;43m\"\u001b[39;49m\u001b[38;5;124;43mWho is God?\u001b[39;49m\u001b[38;5;124;43m\"\u001b[39;49m\u001b[43m,\u001b[49m\u001b[43m \u001b[49m\u001b[43mrun_cross_encoder\u001b[49m\u001b[38;5;241;43m=\u001b[39;49m\u001b[38;5;124;43m\"\u001b[39;49m\u001b[38;5;124;43mNo\u001b[39;49m\u001b[38;5;124;43m\"\u001b[39;49m\u001b[43m,\u001b[49m\u001b[43m \u001b[49m\u001b[43mtestament\u001b[49m\u001b[38;5;241;43m=\u001b[39;49m\u001b[38;5;124;43m\"\u001b[39;49m\u001b[38;5;124;43mNew\u001b[39;49m\u001b[38;5;124;43m\"\u001b[39;49m\u001b[43m)\u001b[49m\n\u001b[0;32m      3\u001b[0m \u001b[38;5;28mprint\u001b[39m(tab2_data)\n",
      "File \u001b[1;32mc:\\Users\\hlmq\\code\\bible-app\\app\\src\\engine.py:104\u001b[0m, in \u001b[0;36mGradioEngine.tab1_engine\u001b[1;34m(self, question, run_cross_encoder, testament)\u001b[0m\n\u001b[0;32m    101\u001b[0m k\u001b[38;5;241m=\u001b[39m\u001b[38;5;241m5\u001b[39m\n\u001b[0;32m    103\u001b[0m \u001b[38;5;66;03m# Retrieve Top K Most Similar Results\u001b[39;00m\n\u001b[1;32m--> 104\u001b[0m \u001b[38;5;28mself\u001b[39m\u001b[38;5;241m.\u001b[39mverse_data[\u001b[38;5;124m'\u001b[39m\u001b[38;5;124msimilarity score\u001b[39m\u001b[38;5;124m'\u001b[39m] \u001b[38;5;241m=\u001b[39m \u001b[38;5;28;43mself\u001b[39;49m\u001b[38;5;241;43m.\u001b[39;49m\u001b[43mmeasure_embedding_similarity\u001b[49m\u001b[43m(\u001b[49m\u001b[43mquestion\u001b[49m\u001b[43m,\u001b[49m\u001b[43m \u001b[49m\u001b[43membeddings\u001b[49m\u001b[43m)\u001b[49m\n\u001b[0;32m    105\u001b[0m \u001b[38;5;66;03m# Count number of tokens in each article\u001b[39;00m\n\u001b[0;32m    106\u001b[0m \u001b[38;5;28mself\u001b[39m\u001b[38;5;241m.\u001b[39mverse_data[\u001b[38;5;124m'\u001b[39m\u001b[38;5;124mtoken count\u001b[39m\u001b[38;5;124m'\u001b[39m] \u001b[38;5;241m=\u001b[39m \u001b[38;5;28mself\u001b[39m\u001b[38;5;241m.\u001b[39mverse_data[\u001b[38;5;124m'\u001b[39m\u001b[38;5;124mtext\u001b[39m\u001b[38;5;124m'\u001b[39m]\u001b[38;5;241m.\u001b[39mapply(\u001b[38;5;28mself\u001b[39m\u001b[38;5;241m.\u001b[39mget_num_tokens)\n",
      "File \u001b[1;32mc:\\Users\\hlmq\\code\\bible-app\\app\\src\\engine.py:67\u001b[0m, in \u001b[0;36mGradioEngine.measure_embedding_similarity\u001b[1;34m(self, query, embeddings)\u001b[0m\n\u001b[0;32m     59\u001b[0m \u001b[38;5;250m\u001b[39m\u001b[38;5;124;03m\"\"\"\u001b[39;00m\n\u001b[0;32m     60\u001b[0m \u001b[38;5;124;03mFind the query embedding for the supplied query, and compare it against all of the pre-calculated document embeddings\u001b[39;00m\n\u001b[0;32m     61\u001b[0m \u001b[38;5;124;03mto find the most relevant sections.\u001b[39;00m\n\u001b[0;32m     62\u001b[0m \n\u001b[0;32m     63\u001b[0m \u001b[38;5;124;03mReturn the list of document sections, sorted by relevance in descending order.\u001b[39;00m\n\u001b[0;32m     64\u001b[0m \u001b[38;5;124;03m\"\"\"\u001b[39;00m\n\u001b[0;32m     65\u001b[0m query_embedding \u001b[38;5;241m=\u001b[39m \u001b[38;5;28mself\u001b[39m\u001b[38;5;241m.\u001b[39mget_embeddings(query)\n\u001b[1;32m---> 67\u001b[0m \u001b[38;5;28;01mreturn\u001b[39;00m [\u001b[38;5;28mself\u001b[39m\u001b[38;5;241m.\u001b[39mvector_similarity(query_embedding, embedding) \u001b[38;5;28;01mfor\u001b[39;00m embedding \u001b[38;5;129;01min\u001b[39;00m embeddings]\n",
      "File \u001b[1;32mc:\\Users\\hlmq\\code\\bible-app\\app\\src\\engine.py:67\u001b[0m, in \u001b[0;36m<listcomp>\u001b[1;34m(.0)\u001b[0m\n\u001b[0;32m     59\u001b[0m \u001b[38;5;250m\u001b[39m\u001b[38;5;124;03m\"\"\"\u001b[39;00m\n\u001b[0;32m     60\u001b[0m \u001b[38;5;124;03mFind the query embedding for the supplied query, and compare it against all of the pre-calculated document embeddings\u001b[39;00m\n\u001b[0;32m     61\u001b[0m \u001b[38;5;124;03mto find the most relevant sections.\u001b[39;00m\n\u001b[0;32m     62\u001b[0m \n\u001b[0;32m     63\u001b[0m \u001b[38;5;124;03mReturn the list of document sections, sorted by relevance in descending order.\u001b[39;00m\n\u001b[0;32m     64\u001b[0m \u001b[38;5;124;03m\"\"\"\u001b[39;00m\n\u001b[0;32m     65\u001b[0m query_embedding \u001b[38;5;241m=\u001b[39m \u001b[38;5;28mself\u001b[39m\u001b[38;5;241m.\u001b[39mget_embeddings(query)\n\u001b[1;32m---> 67\u001b[0m \u001b[38;5;28;01mreturn\u001b[39;00m [\u001b[38;5;28;43mself\u001b[39;49m\u001b[38;5;241;43m.\u001b[39;49m\u001b[43mvector_similarity\u001b[49m\u001b[43m(\u001b[49m\u001b[43mquery_embedding\u001b[49m\u001b[43m,\u001b[49m\u001b[43m \u001b[49m\u001b[43membedding\u001b[49m\u001b[43m)\u001b[49m \u001b[38;5;28;01mfor\u001b[39;00m embedding \u001b[38;5;129;01min\u001b[39;00m embeddings]\n",
      "File \u001b[1;32mc:\\Users\\hlmq\\code\\bible-app\\app\\src\\engine.py:52\u001b[0m, in \u001b[0;36mGradioEngine.vector_similarity\u001b[1;34m(self, x, y)\u001b[0m\n\u001b[0;32m     46\u001b[0m \u001b[38;5;28;01mdef\u001b[39;00m \u001b[38;5;21mvector_similarity\u001b[39m(\u001b[38;5;28mself\u001b[39m, x: \u001b[38;5;124m\"\u001b[39m\u001b[38;5;124mlist[float]\u001b[39m\u001b[38;5;124m\"\u001b[39m, y: \u001b[38;5;124m\"\u001b[39m\u001b[38;5;124mlist[float]\u001b[39m\u001b[38;5;124m\"\u001b[39m) \u001b[38;5;241m-\u001b[39m\u001b[38;5;241m>\u001b[39m \u001b[38;5;28mfloat\u001b[39m:\n\u001b[0;32m     47\u001b[0m \u001b[38;5;250m    \u001b[39m\u001b[38;5;124;03m\"\"\"\u001b[39;00m\n\u001b[0;32m     48\u001b[0m \u001b[38;5;124;03m    Returns the similarity between two vectors.\u001b[39;00m\n\u001b[0;32m     49\u001b[0m \n\u001b[0;32m     50\u001b[0m \u001b[38;5;124;03m    Because embeddings are normalized to length 1, the cosine similarity is the same as the dot product.\u001b[39;00m\n\u001b[0;32m     51\u001b[0m \u001b[38;5;124;03m    \"\"\"\u001b[39;00m\n\u001b[1;32m---> 52\u001b[0m     \u001b[38;5;28;01mreturn\u001b[39;00m \u001b[43mnp\u001b[49m\u001b[38;5;241;43m.\u001b[39;49m\u001b[43mdot\u001b[49m\u001b[43m(\u001b[49m\u001b[43mnp\u001b[49m\u001b[38;5;241;43m.\u001b[39;49m\u001b[43marray\u001b[49m\u001b[43m(\u001b[49m\u001b[43mx\u001b[49m\u001b[43m)\u001b[49m\u001b[43m,\u001b[49m\u001b[43m \u001b[49m\u001b[43mnp\u001b[49m\u001b[38;5;241;43m.\u001b[39;49m\u001b[43marray\u001b[49m\u001b[43m(\u001b[49m\u001b[43my\u001b[49m\u001b[43m)\u001b[49m\u001b[43m)\u001b[49m\n",
      "File \u001b[1;32m<__array_function__ internals>:180\u001b[0m, in \u001b[0;36mdot\u001b[1;34m(*args, **kwargs)\u001b[0m\n",
      "\u001b[1;31mUFuncTypeError\u001b[0m: ufunc 'multiply' did not contain a loop with signature matching types (dtype('<U32'), dtype('<U8439')) -> None"
     ]
    }
   ],
   "source": [
    "# Testing tab1\n",
    "tab2_data = session.tab1_engine(question=\"Who is God?\", run_cross_encoder=\"No\", testament=\"New\")\n",
    "print(tab2_data)"
   ]
  },
  {
   "cell_type": "code",
   "execution_count": null,
   "metadata": {},
   "outputs": [],
   "source": [
    "session.verse_data"
   ]
  },
  {
   "cell_type": "code",
   "execution_count": null,
   "metadata": {},
   "outputs": [],
   "source": []
  }
 ],
 "metadata": {
  "kernelspec": {
   "display_name": "nlp_testing",
   "language": "python",
   "name": "python3"
  },
  "language_info": {
   "codemirror_mode": {
    "name": "ipython",
    "version": 3
   },
   "file_extension": ".py",
   "mimetype": "text/x-python",
   "name": "python",
   "nbconvert_exporter": "python",
   "pygments_lexer": "ipython3",
   "version": "3.9.5"
  }
 },
 "nbformat": 4,
 "nbformat_minor": 2
}
